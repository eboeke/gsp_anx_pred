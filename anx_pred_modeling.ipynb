{
 "cells": [
  {
   "cell_type": "code",
   "execution_count": 1,
   "metadata": {},
   "outputs": [
    {
     "name": "stderr",
     "output_type": "stream",
     "text": [
      "/users/phelpslab/anaconda3/lib/python3.6/site-packages/sklearn/ensemble/weight_boosting.py:29: DeprecationWarning: numpy.core.umath_tests is an internal NumPy module and should not be imported. It will be removed in a future NumPy release.\n",
      "  from numpy.core.umath_tests import inner1d\n",
      "/users/phelpslab/anaconda3/lib/python3.6/site-packages/h5py/__init__.py:34: FutureWarning: Conversion of the second argument of issubdtype from `float` to `np.floating` is deprecated. In future, it will be treated as `np.float64 == np.dtype(float).type`.\n",
      "  from ._conv import register_converters as _register_converters\n"
     ]
    }
   ],
   "source": [
    "import pandas as pd\n",
    "import numpy as np\n",
    "\n",
    "\n",
    "from sklearn.linear_model import Ridge\n",
    "from sklearn.linear_model import Lasso\n",
    "from sklearn.cross_decomposition import PLSRegression\n",
    "from sklearn.decomposition import PCA\n",
    "from sklearn.linear_model import LinearRegression\n",
    "from sklearn.ensemble import RandomForestRegressor\n",
    "from sklearn.base import BaseEstimator, RegressorMixin\n",
    "from sklearn.svm import SVR\n",
    "from sklearn.model_selection import GridSearchCV\n",
    "from sklearn.preprocessing import StandardScaler,Imputer\n",
    "from sklearn.metrics import r2_score\n",
    "from sklearn.pipeline import Pipeline\n",
    "\n",
    "from nilearn import connectome\n",
    "from skbold.preproc.confounds import ConfoundRegressor\n",
    "\n",
    "%matplotlib inline\n",
    "import matplotlib.pyplot as plt\n",
    "from scipy import stats\n",
    "import random\n",
    "random.seed(5)\n",
    "\n",
    "from joblib import Parallel, delayed\n",
    "\n",
    "parent_folder = '/Volumes/phelpslab2/Emily/gsp/'\n",
    "input_data_folder = parent_folder + 'processed_data_for_models/'\n",
    "output_data_folder = parent_folder + 'python_modeling_output/'"
   ]
  },
  {
   "cell_type": "markdown",
   "metadata": {},
   "source": [
    "# functions"
   ]
  },
  {
   "cell_type": "code",
   "execution_count": 2,
   "metadata": {
    "collapsed": true
   },
   "outputs": [],
   "source": [
    "def cv_stratified(n_folds,y):\n",
    "    #creates stratified cross validation folds (for k-fold cv) using continuous target variable (y) \n",
    "    #Args:\n",
    "        #n_folds, number of folds for cv\n",
    "        #y, the target variable\n",
    "    #Returns:\n",
    "        #CViterator, iterable of length n_folds that can be used with gridsearchcv\n",
    "    idx = np.argsort(y,0)\n",
    "    n = len(y)\n",
    "    all_idx = np.arange(n)\n",
    "\n",
    "    CViterator = []\n",
    "    for k in range(n_folds):\n",
    "        test_idx = idx[np.arange(k,n,n_folds)].ravel()\n",
    "        test_bool = np.zeros(n,dtype=bool)\n",
    "        test_bool[test_idx]=True\n",
    "        train_bool= ~test_bool\n",
    "        train_idx = all_idx[train_bool]\n",
    "\n",
    "        CViterator.append((train_idx,test_idx))\n",
    "    return(CViterator)\n",
    "    "
   ]
  },
  {
   "cell_type": "code",
   "execution_count": 3,
   "metadata": {
    "collapsed": true
   },
   "outputs": [],
   "source": [
    "def nested_cv(X,y,estimator,param_grid):\n",
    "    #performs nested cv (6 fold for inner and outer) for selecting hyperparameters\n",
    "    #Args:\n",
    "        #X, np array of features (n x n_features) or list (length n) of  timecourse nparrays for nilearn\n",
    "        #y, the target variable\n",
    "        #estimator, sklearn estimator\n",
    "        #param_grid, list of hyperparameter values\n",
    "    #Returns:\n",
    "        #r2, r2 score\n",
    "        #preds, predictions of model (in same order as y)\n",
    "        #param_selected, hyperparameter value that was chosen.\n",
    "    n_folds = 6\n",
    "    outer_cv = cv_stratified(n_folds,y)\n",
    "\n",
    "    param_selected = []\n",
    "    preds = np.zeros(np.shape(y))\n",
    "    \n",
    "    for train, test in outer_cv:\n",
    "        inner_cv = cv_stratified(n_folds,y[train])\n",
    "        if type(X)==list: #this allows for tangent matrix approach via nilearn\n",
    "            X_train = [X[i] for i in train]\n",
    "            X_test = [X[i] for i in test]\n",
    "        else:\n",
    "            X_train = X[train]\n",
    "            X_test = X[test]\n",
    "        reg_inner= GridSearchCV(estimator=estimator, param_grid=param_grid, cv=inner_cv, scoring='r2')  \n",
    "     \n",
    "        reg_inner.fit(X_train, y[train])\n",
    "        param_selected.append(reg_inner.best_params_)\n",
    "        preds[test] = reg_inner.best_estimator_.predict(X_test)\n",
    "\n",
    "        r2 = r2_score(y,preds)\n",
    "    return(r2,preds,param_selected)\n",
    "\n"
   ]
  },
  {
   "cell_type": "code",
   "execution_count": 4,
   "metadata": {
    "collapsed": true
   },
   "outputs": [],
   "source": [
    "class CPM(BaseEstimator, RegressorMixin):\n",
    "    \"\"\" connectome predictive model\"\"\"\n",
    "    #based off of Shen et al  2017, finn et al 2015, Rosenberg et al 2016\n",
    "    #(referred to as \"connectome-based predictive modeling\" in Rosenberg et al 2017)\n",
    "    #selects features that are tightly correlated with y, sum up correlation strengths of these features for each \n",
    "    #subject to get \"score\"\n",
    "    #perform linear regression using this score as predictor of y\n",
    "    \n",
    "    #separate models should be run for positive and negative networks (edges that positively and negatively correlate \n",
    "    #with y)\n",
    "    \n",
    "    #args: \n",
    "        #network, string, can be 'pos' or 'neg'\n",
    "        #pthresh, threshold for selecting features, default .01\n",
    "    \n",
    "    def __init__(self, network='pos',p_thresh=.01):\n",
    "        if network != 'pos' and network != 'neg':\n",
    "            raise ValueError(\"network must be 'pos' or 'neg'\")\n",
    "        if p_thresh <0 or p_thresh >1:\n",
    "            raise ValueError(\"invalid p thresh\")\n",
    "        self.p_thresh = p_thresh\n",
    "        self.network = network #positive or negative network model\n",
    "\n",
    "    def fit(self, X, y=None):\n",
    "        n, num_ftrs = X.shape\n",
    "        r = np.zeros(num_ftrs)\n",
    "        p = np.zeros(num_ftrs)\n",
    "        self.mask = np.zeros(num_ftrs)\n",
    "        for i in range(num_ftrs):\n",
    "            r[i],p[i] = stats.pearsonr(X[:,i],y.ravel())\n",
    "        \n",
    "        if self.network=='pos':\n",
    "            self.mask[(r>0)&(p<self.p_thresh)] = 1\n",
    "        else:\n",
    "            self.mask[(r<0)&(p<self.p_thresh)] = 1\n",
    "        \n",
    "        X_masked = self.mask*X    \n",
    "        corr_sum = np.sum(X_masked,axis=1).reshape(n,1)\n",
    "        predictors = np.concatenate((np.ones((n,1)),corr_sum),axis=1)\n",
    "        self.beta_ = np.matmul(np.linalg.inv(np.matmul(np.transpose(predictors),predictors)),\n",
    "                                np.dot(np.transpose(predictors),y))\n",
    "        return self\n",
    "\n",
    "    def predict(self, X, y=None):\n",
    "        try:\n",
    "            getattr(self, \"beta_\")\n",
    "        except AttributeError:\n",
    "            raise RuntimeError(\"You must train model before predicting!\")\n",
    "        n, num_ftrs = X.shape\n",
    "        X_masked = self.mask*X  \n",
    "        corr_sum = np.sum(X_masked,axis=1).reshape(n,1)\n",
    "    \n",
    "        predictors = np.concatenate((np.ones((n,1)),corr_sum),axis=1)\n",
    "        predictions = np.matmul(predictors, self.beta_)\n",
    "        return predictions \n",
    "\n",
    "    def score(self, X, y):\n",
    "        # r2\n",
    "        try:\n",
    "            getattr(self, \"beta_\")\n",
    "        except AttributeError:\n",
    "            raise RuntimeError(\"You must train model before scoring!\")\n",
    "        predictions = self.predict(X)\n",
    "        return r2_score(y,predictions)\n",
    "\n"
   ]
  },
  {
   "cell_type": "code",
   "execution_count": 5,
   "metadata": {
    "collapsed": true
   },
   "outputs": [],
   "source": [
    "def cpm_cv(X,y):\n",
    "    #performs 6 fold cv for cpm model. actually creates/evaluates 2 models, for pos and neg network\n",
    "    #args:\n",
    "        #X, np array, predictors\n",
    "        #y: target  variable\n",
    "    #returns:\n",
    "        #r2_pos:  cross validated r squared for powitive network\n",
    "        #r2_neg:  cross validated r squared for negative network\n",
    "        #preds_pos: predictions for positive netowrk model\n",
    "        #preds_neg: predictions for negative network model\n",
    "    n_folds = 6\n",
    "    outer_cv = cv_stratified(n_folds,y)\n",
    "\n",
    "    preds_pos = np.zeros(np.shape(y))\n",
    "    preds_neg = np.zeros(np.shape(y))\n",
    "\n",
    "    \n",
    "    for train, test in outer_cv:\n",
    "        inner_cv = cv_stratified(n_folds,y[train])\n",
    "        cpm_pos = CPM(network='pos')\n",
    "        cpm_pos.fit(X[train],y[train])\n",
    "\n",
    "        cpm_neg = CPM(network='neg')\n",
    "        cpm_neg.fit(X[train],y[train])\n",
    "\n",
    "        preds_pos[test] = cpm_pos.predict(X[test])\n",
    "        preds_neg[test] = cpm_neg.predict(X[test])\n",
    "\n",
    "    r2_pos = r2_score(y,preds_pos)\n",
    "    r2_neg = r2_score(y,preds_neg)\n",
    "    return(r2_pos,r2_neg,preds_pos,preds_neg)"
   ]
  },
  {
   "cell_type": "code",
   "execution_count": 6,
   "metadata": {
    "collapsed": true
   },
   "outputs": [],
   "source": [
    "def rf_tune(X,y,params,n_estimators=500):\n",
    "    #tunes hyperparameters for randomforestregressor using oob score rather than nested cross validation\n",
    "    #still evaluates with cv\n",
    "    #Args:\n",
    "        #X: n x n_feat numpy array, predictors\n",
    "        #y: target variable, np array length n\n",
    "        #params: list of hyperparameters to try--for max depth parameter\n",
    "        #n_estimators: number of trees for random forests\n",
    "    #Returns:\n",
    "        #r2:  r squared. \n",
    "        #preds: predictions\n",
    "        #param_selected: hyperparameter (max depth) that was selected on each fold of cv.\n",
    "    n_folds = 6\n",
    "    cv = cv_stratified(n_folds,y)\n",
    "\n",
    "\n",
    "    param_selected = []\n",
    "    preds = np.zeros(np.shape(y))\n",
    "\n",
    "    params = params.astype(float)\n",
    "    oob = np.zeros(len(params))\n",
    "    for train, test in cv:\n",
    "        estimators = []\n",
    "        for i in range(len(params)):\n",
    "            #make it so these can be specified with input to function\n",
    "            estimators.append(RandomForestRegressor(max_depth=params[i],n_estimators=n_estimators,\n",
    "                                                    oob_score=True,max_features = 'sqrt',random_state = 50))\n",
    "            estimators[i].fit(X[train], y[train])\n",
    "            oob[i] = estimators[i].oob_score_\n",
    "        best_idx = np.argmax(oob) #find the index of parameter that minimizes oob\n",
    "        param_selected.append(params[best_idx])\n",
    "        preds[test] = estimators[best_idx].predict(X[test])\n",
    "\n",
    "    r2 = r2_score(y,preds)\n",
    "    return(r2,preds,param_selected)\n",
    "\n"
   ]
  },
  {
   "cell_type": "code",
   "execution_count": 3,
   "metadata": {
    "collapsed": true
   },
   "outputs": [],
   "source": [
    "def stack(Xs,y,inner_pipeline,outer_pipeline):\n",
    "    #performs model stacking for different X datasets, eg, rfMRI data and structural data\n",
    "    #does not do hyperparameter selection\n",
    "    #Args:\n",
    "        #Xs is a list containing the features for different datasets. elements should be n x n_feat np arrays\n",
    "        #y: target variable, length n\n",
    "        #inner pipeline: pipeline containing inner (base) model\n",
    "        #outer_pipeline: pipeline containing outer (stacking) model\n",
    "    #Output:\n",
    "        #r2, r squared of stacked model averaged over cv folds\n",
    "        #preds,  model predictions\n",
    "    \n",
    "    n_folds = 6#folds for outer cv for model evaluation\n",
    "    outer_cv = cv_stratified(n_folds,y) #splits for outer cv for model evaluation\n",
    "    preds = np.zeros(np.shape(y))\n",
    "    num_models = len(Xs)\n",
    "    for train, test in outer_cv:\n",
    "        y_train_outer = y[train]\n",
    "        y_test_outer = y[test]\n",
    "        stack_split = cv_stratified(num_models,y_train_outer)#split into folds for model stacking\n",
    "        \n",
    "        #'meta' features (training)--model predictions for dif data sources, (for training examples of outer \n",
    "        #cv. calculated on each inner test fold):\n",
    "        meta_feat_train = np.zeros((len(y_train_outer),num_models))\n",
    "        # 'meta' features (testing)--model predictions, (for test examples of outer cv. \n",
    "        #for each data source, for each inner fold of stacking, get data source predictions for each test example.\n",
    "        # so 3d array-- n outer test subs x n base models x n inner folds. and here n inner folds = n base models):\n",
    "        meta_feat_test = np.zeros((len(y_test_outer),num_models,num_models))\n",
    "        for m in np.arange(num_models): #have to run each model\n",
    "            X = Xs[m]#select the relevant x dataset\n",
    "            X_train_outer = X[train] #training examples for outer cv (for model evaluation)\n",
    "            X_test_outer = X[test]\n",
    "            #if doing confound regressor, reset X matrix in ConfoundRegressor step:\n",
    "            if 'conf_reg' in inner_pipeline.named_steps.keys():\n",
    "                steps_new = inner_pipeline.named_steps\n",
    "                steps_new['conf_reg'] = ConfoundRegressor(inner_pipeline.named_steps['conf_reg'].confound,X)\n",
    "                steps_new = [(k,v) for k,v in steps_new.items()]\n",
    "                inner_pipeline = Pipeline(steps_new)\n",
    "            for f in np.arange(num_models): #run each inner fold of stacking \n",
    "\n",
    "                X_train_inner = X_train_outer[stack_split[f][0]] # training examples for inner stacking fold\n",
    "                X_test_inner = X_train_outer[stack_split[f][1]]\n",
    "\n",
    "                y_train_inner = y_train_outer[stack_split[f][0]] \n",
    "                y_test_inner = y_train_outer[stack_split[f][1]]\n",
    "\n",
    "                #fit inner model\n",
    "                inner_pipeline.fit(X_train_inner, y_train_inner)\n",
    "                #record predictions for inner and outer test data (meta features)\n",
    "                meta_feat_train[stack_split[f][1],m] = inner_pipeline.predict(X_test_inner).ravel()\n",
    "                meta_feat_test[:,m,f] = inner_pipeline.predict(X_test_outer).ravel()\n",
    "                \n",
    "\n",
    "        #average test meta features across inner folds\n",
    "        mean_meta_feat_test = np.mean(meta_feat_test,axis = 2)\n",
    "\n",
    "\n",
    "        outer_pipeline.fit(meta_feat_train,y=y_train_outer)\n",
    "        train_model_preds = outer_pipeline.predict(meta_feat_train)\n",
    "        preds[test] = outer_pipeline.predict(mean_meta_feat_test)\n",
    "\n",
    "    r2 = r2_score(y,preds)\n",
    "    return(r2,preds)\n",
    "\n",
    "\n",
    "\n"
   ]
  },
  {
   "cell_type": "code",
   "execution_count": 4,
   "metadata": {
    "collapsed": true
   },
   "outputs": [],
   "source": [
    "def stack_test(Xs_train,y_train,Xs_test,y_test,inner_pipeline,outer_pipeline):\n",
    "    #stacking model without cross validation--just one training set and and test set.  \n",
    "    #need this to test model in holdout data\n",
    "    #Args:\n",
    "        #Xs_train is a list containing the different datasets. elements should have the same # observations \n",
    "            #(training dataset)\n",
    "        #y_train: outcome variable (training dataset)\n",
    "        #Xs_test: same as above but for test set\n",
    "        #y_test: same as above but for test set\n",
    "        #inner pipeline: pipeline containing inner (base) model\n",
    "        #outer_pipeline: pipeline containing outer (stacking) model\n",
    "    #Output:\n",
    "        #r2,  r squared of model in the test set\n",
    "        #preds, model predictions (in order of y_test)\n",
    "        #meta_weights, np array of weights on meta features\n",
    "    \n",
    "\n",
    "    num_models = len(Xs_train)\n",
    "    stack_split = cv_stratified(num_models,y_train)#split into folds for model stacking\n",
    "\n",
    "    meta_feat_train = np.zeros((len(y_train),num_models))\n",
    "    meta_feat_test = np.zeros((len(y_test),num_models,num_models))\n",
    "\n",
    "    #(for training examples of outer cv. calculated on inner holdout fold)\n",
    "    for m in np.arange(num_models): #have to run each model\n",
    "        X_train = Xs_train[m]#select the relevant x dataset\n",
    "        X_test = Xs_test[m]\n",
    "        for f in np.arange(num_models): #run each inner fold of stacking \n",
    "            X_train_inner = X_train[stack_split[f][0]] # training examples for stacking\n",
    "            X_test_inner = X_train[stack_split[f][1]]\n",
    "\n",
    "            y_train_inner = y_train[stack_split[f][0]] \n",
    "            y_test_inner = y_train[stack_split[f][1]]\n",
    "\n",
    "            #fit inner model\n",
    "            inner_pipeline.fit(X_train_inner, y_train_inner)\n",
    "\n",
    "            #record predictions for train and test (meta features)\n",
    "            meta_feat_train[stack_split[f][1],m] = inner_pipeline.predict(X_test_inner).ravel()\n",
    "            meta_feat_test[:,m,f] = inner_pipeline.predict(X_test).ravel()\n",
    "                \n",
    "\n",
    "    #average test meta features across inner folds\n",
    "    mean_meta_feat_test = np.mean(meta_feat_test,axis = 2)\n",
    "\n",
    "    #train outer (stacked) model on training meta features\n",
    "    outer_pipeline.fit(meta_feat_train,y=y_train)\n",
    "    meta_weights = outer_pipeline.named_steps['regression'].coef_\n",
    "    preds = outer_pipeline.predict(mean_meta_feat_test)\n",
    "    r2 = r2_score(y_test,preds)\n",
    "\n",
    "    return(r2,preds,meta_weights)"
   ]
  },
  {
   "cell_type": "code",
   "execution_count": 9,
   "metadata": {
    "collapsed": true
   },
   "outputs": [],
   "source": [
    "def stack_from_meta_tune(y,outer_pipeline,seeds,param_grid):\n",
    "    #performs model stacking for different X datasets--85 fcmri maps from 85 fs seeds.\n",
    "    #evaluates with cv. meta features  have already been exracted/saved (with the script \n",
    "    #metafeat_1fold_1mod.py, and are loaded in this function.\n",
    "    #can't use the functions above for this analysis bc of memory issues\n",
    "    #also does nested cv to tune hyperparamerter for outer (stacked) model\n",
    "    #args:\n",
    "        #y: target variable\n",
    "        #outer pipeline: pipeline for stacking model\n",
    "        #seeds: name of the seeds for maps.\n",
    "        #param grid: contains hyperparameter values to test\n",
    "    #output: r2, predictions, param selected on each fold  of cv\n",
    "    n_folds = 6#folds for outer cv for model evaluation\n",
    "    outer_cv = cv_stratified(n_folds,y) #splits for outer cv for model evaluation\n",
    "    \n",
    "    preds = np.zeros(np.shape(y))\n",
    "\n",
    "    num_models = len(seeds)\n",
    "    param_selected = []\n",
    "\n",
    "    cv_iter = 0\n",
    "    for train, test in outer_cv:\n",
    "        y_train_outer = y[train]\n",
    "        y_test_outer = y[test]\n",
    "        #\"meta' features--model predictions for dif data sources \n",
    "        meta_feat_train = np.zeros((len(y_train_outer),num_models))\n",
    "        meta_feat_test = np.zeros((len(y_test_outer),num_models))\n",
    "        for m in np.arange(num_models): #have to run each model\n",
    "            seed = seeds[m]\n",
    "            meta_feat_train[:,m] =  pd.read_csv(input_data_folder + 'discovery/metafeatures/meta_feat_train_' +\n",
    "                                              seed + '_fold' + str(cv_iter) + '.csv' ,header=None).values.ravel()\n",
    "\n",
    "            meta_feat_test[:,m] = pd.read_csv(input_data_folder + 'discovery/metafeatures/meta_feat_test_' +\n",
    "                                              seed + '_fold' + str(cv_iter) + '.csv' ,header=None).values.ravel()\n",
    "            \n",
    "                \n",
    "        inner_cv = cv_stratified(n_folds,y_train_outer)\n",
    "\n",
    "        reg_inner= GridSearchCV(estimator=outer_pipeline, param_grid=param_grid, cv=inner_cv, scoring='r2')  \n",
    "        reg_inner.fit(meta_feat_train, y_train_outer)\n",
    "        param_selected.append(reg_inner.best_params_)\n",
    "        preds[test] = reg_inner.best_estimator_.predict(meta_feat_test)\n",
    "        cv_iter +=1\n",
    "\n",
    "    r2= r2_score(y,preds)\n",
    "    return(r2,preds,param_selected)"
   ]
  },
  {
   "cell_type": "code",
   "execution_count": 10,
   "metadata": {
    "collapsed": true
   },
   "outputs": [],
   "source": [
    "def stack_perm(Xs_actual,y_actual,inner_pipeline,outer_pipeline,n_iter,figname=None):\n",
    "    #permutation test of stacking model, with nested cv r squared as evaluation metric. parallelized via joblib\n",
    "    #X values are shuffled so that X and y no longer correspond to each other. stack function is called and \n",
    "    #resulting r squared value is recorded\n",
    "    #Args:\n",
    "        #Xs_actual: list of original X nparrays \n",
    "        #y_actual: original target variable\n",
    "        #inner pipeline: pipeline for inner/base models\n",
    "        #outer_pipeline: pipeline for outer/stacking model\n",
    "        #n_iter: num iterations for perm test\n",
    "        #fig_name: string or None. If None, no figure made. otherwise, figure saved with string as name\n",
    "    #Returns:\n",
    "        #null_scores: list of  r squared values from null models\n",
    "        #p: p value for perm test\n",
    "        #actual score: r2 value for model with unshuffled data\n",
    "    actual_score,_ = stack(Xs_actual,y_actual,inner_pipeline,outer_pipeline)\n",
    "    null_scores = np.zeros(n_iter)\n",
    "    null_scores = Parallel(n_jobs=4)(delayed(one_perm_stack)(\n",
    "        Xs_actual,y_actual,inner_pipeline,  outer_pipeline) \n",
    "                                     for i in range(n_iter))\n",
    "    null_scores = np.array(null_scores)\n",
    "    actual_score = actual_score\n",
    "    x_min = np.amin(np.append(null_scores,actual_score))-.05\n",
    "    x_max = np.amax(np.append(null_scores,actual_score))+.05\n",
    "    y_max = n_iter/3\n",
    "    \n",
    "    conf95 = np.percentile(null_scores, 95)\n",
    "    \n",
    "    #determine p value:\n",
    "    num_less = len(null_scores[np.where(null_scores<actual_score)])\n",
    "    p = 1- np.float(num_less/n_iter)\n",
    "    \n",
    "    plt.hist(null_scores,color='grey')\n",
    "    plt.plot([actual_score,actual_score],[0,y_max],'r')\n",
    "    plt.plot([conf95,conf95],[0,y_max],'k--')\n",
    "    plt.legend(['actual r squared','95% conf int'])\n",
    "    plt.axis([x_min,x_max,0,y_max])\n",
    "    plt.xlabel('r squared')\n",
    "    plt.ylabel('num iterations')\n",
    "    fontsize=15\n",
    "    plt.rc('font',**{ 'size':fontsize})\n",
    "    plt.tight_layout()\n",
    "    if figname:\n",
    "        plt.savefig(figname)\n",
    "    return(null_scores,p,actual_score)"
   ]
  },
  {
   "cell_type": "code",
   "execution_count": 11,
   "metadata": {
    "collapsed": true
   },
   "outputs": [],
   "source": [
    "def one_perm_stack(Xs_actual,y_actual,inner_pipeline, outer_pipeline):\n",
    "    #runs one permutation for perm_stack\n",
    "    shuff_order = np.arange(len(y_actual))\n",
    "    random.shuffle(shuff_order)\n",
    "    Xs_shuffled = []\n",
    "    for i in np.arange(len(Xs_actual)):\n",
    "        Xs_shuffled.append(Xs_actual[i][shuff_order])\n",
    "    null_score,_ = stack(Xs_shuffled,y_actual,inner_pipeline,outer_pipeline)\n",
    "    return(null_score)"
   ]
  },
  {
   "cell_type": "code",
   "execution_count": 12,
   "metadata": {
    "collapsed": true
   },
   "outputs": [],
   "source": [
    "def stack_test_perm(Xs_actual_train,y_actual_train,Xs_actual_test,y_actual_test,inner_pipeline,outer_pipeline,\n",
    "                    n_iter,figname=None):\n",
    "    #permutation test for stacking model--stack_test version, not cross validation\n",
    "    #X values are shuffled so that X and y no longer correspond to each other. shuffling happens separately within\n",
    "    #train and test sets. model built in shuffled train, evaluated on shuffled test, r squared recorded\n",
    "    #Args:\n",
    "        #Xs_actual_train: list of original X nparrays (training data)\n",
    "        #y_actual_train: original target variable(training data)\n",
    "        #Xs_actual_test: list of original X nparrays (test data)\n",
    "        #y_actual_test: original target variable(test data)\n",
    "        #inner pipeline: pipeline for inner/base models\n",
    "        #outer_pipeline: pipeline for outer/stacking model\n",
    "        #n_iter: num iterations for perm test\n",
    "        #fig_name: string or None. If None, no figure made. otherwise, figure saved with string as name\n",
    "    #Returns:\n",
    "        #null_scores: list of  r squared values from null models\n",
    "        #p: p value for perm test\n",
    "        #actual score: r2 value for model with unshuffled data\n",
    "    actual_score,_,_ = stack_test(Xs_actual_train,y_actual_train,Xs_actual_test,y_actual_test,\n",
    "                                  inner_pipeline,outer_pipeline)\n",
    "    null_scores = np.zeros(n_iter)\n",
    "    null_scores = Parallel(n_jobs=4)(delayed(one_perm_stack_test)(\n",
    "        Xs_actual_train,y_actual_train,Xs_actual_test,y_actual_test,inner_pipeline,  outer_pipeline) \n",
    "                                     for i in range(n_iter))\n",
    "    null_scores = np.array(null_scores)#reverse so not negative\n",
    "    actual_score = actual_score\n",
    "    x_min = np.amin(np.append(null_scores,actual_score))-.05\n",
    "    x_max = np.amax(np.append(null_scores,actual_score))+.05\n",
    "    y_max = n_iter/3\n",
    "    \n",
    "    conf95 = np.percentile(null_scores, 95)\n",
    "    \n",
    "    #determine p value:\n",
    "    num_less = len(null_scores[np.where(null_scores<actual_score)])\n",
    "    p = 1- np.float(num_less/n_iter)\n",
    "  \n",
    "    plt.hist(null_scores,color='grey')\n",
    "    plt.plot([actual_score,actual_score],[0,y_max],'r')\n",
    "    plt.plot([conf95,conf95],[0,y_max],'k--')\n",
    "    plt.legend(['actual r squared','95% conf int'])\n",
    "    plt.axis([x_min,x_max,0,y_max])\n",
    "    plt.xlabel('r squared')\n",
    "    plt.ylabel('num iterations')\n",
    "    fontsize=15\n",
    "    plt.rc('font',**{ 'size':fontsize})\n",
    "    plt.tight_layout()\n",
    "    if figname:\n",
    "        plt.savefig(figname)\n",
    "        \n",
    "    return(null_scores,p,actual_score)"
   ]
  },
  {
   "cell_type": "code",
   "execution_count": 13,
   "metadata": {
    "collapsed": true
   },
   "outputs": [],
   "source": [
    "def one_perm_stack_test(Xs_actual_train,y_actual_train,Xs_actual_test,y_actual_test,inner_pipeline, outer_pipeline):\n",
    "    #runs one permutation for perm_test_stack\n",
    "\n",
    "    shuff_order = np.arange(len(y_actual_train))\n",
    "    random.shuffle(shuff_order)\n",
    "    \n",
    "    shuff_order_test = np.arange(len(y_actual_test))\n",
    "    random.shuffle(shuff_order_test)\n",
    "    Xs_shuffled_train = []\n",
    "    Xs_shuffled_test = []\n",
    "    for i in np.arange(len(Xs_actual_train)):\n",
    "        Xs_shuffled_train.append(Xs_actual_train[i][shuff_order])\n",
    "        Xs_shuffled_test.append(Xs_actual_test[i][shuff_order_test])\n",
    "    null_score,_,_ = stack_test(Xs_shuffled_train,y_actual_test,Xs_shuffled_test,y_actual_test,\n",
    "                                inner_pipeline,outer_pipeline)\n",
    "    return(null_score)"
   ]
  },
  {
   "cell_type": "markdown",
   "metadata": {},
   "source": [
    "# connectivity graph only models "
   ]
  },
  {
   "cell_type": "markdown",
   "metadata": {},
   "source": [
    "### freesurfer segmentation"
   ]
  },
  {
   "cell_type": "code",
   "execution_count": 5,
   "metadata": {
    "collapsed": true
   },
   "outputs": [],
   "source": [
    "#load data\n",
    "graph_data_file = input_data_folder + 'discovery/fsDisc.csv' \n",
    "graph_data = pd.read_csv(graph_data_file,header=None)\n",
    "graph_data = np.transpose(graph_data.values)\n",
    "\n",
    "compos_anx_file = input_data_folder + 'discovery/composAnxDisc.csv'\n",
    "anx_data = pd.read_csv(compos_anx_file, header=None)\n",
    "anx_data = anx_data.values"
   ]
  },
  {
   "cell_type": "code",
   "execution_count": 15,
   "metadata": {},
   "outputs": [
    {
     "name": "stdout",
     "output_type": "stream",
     "text": [
      "Ridge regression:\n",
      "r squared:\n",
      "0.0319776842536309\n",
      "param selected:\n",
      "[{'regression__alpha': 10000.0}, {'regression__alpha': 10000.0}, {'regression__alpha': 100000.0}, {'regression__alpha': 100000.0}, {'regression__alpha': 10000.0}, {'regression__alpha': 10000.0}]\n",
      "correlation between actual and predicted anxiety:\n",
      "(array([0.17909862]), array([3.31125972e-05]))\n"
     ]
    },
    {
     "data": {
      "image/png": "[encoded data removed]",
      "text/plain": [
       "<matplotlib.figure.Figure at 0x11e2a6400>"
      ]
     },
     "metadata": {},
     "output_type": "display_data"
    },
    {
     "name": "stdout",
     "output_type": "stream",
     "text": [
      "PLS regression:\n",
      "r squared:\n",
      "-0.0664214855113614\n",
      "param selected:\n",
      "[{'regression__n_components': 1}, {'regression__n_components': 2}, {'regression__n_components': 1}, {'regression__n_components': 1}, {'regression__n_components': 1}, {'regression__n_components': 2}]\n",
      "correlation between actual and predicted anxiety:\n",
      "(array([0.16300536]), array([0.00016155]))\n",
      "CPM\n",
      " r squared for positive model:\n",
      "-0.1150325419318674\n",
      " r squared for negative model:\n",
      "-0.02335244283264548\n",
      "corr between actual and predicted anxiety for positive model:\n",
      "(array([0.02488892]), array([0.56714351]))\n",
      "corr between actual and predicted anxiety for negative model:\n",
      "(array([0.12551158]), array([0.00376911]))\n",
      "Lasso regression:\n",
      " r squared:\n",
      "-0.0037302144670718906\n",
      "param selected:\n",
      "[{'regression__alpha': 0.1}, {'regression__alpha': 1.0}, {'regression__alpha': 1.0}, {'regression__alpha': 1.0}, {'regression__alpha': 0.1}, {'regression__alpha': 1.0}]\n",
      "correlation between actual and predicted anxiety:\n",
      "(0.0054780500389520455, 0.8997821376549409)\n",
      "PCR:\n",
      " r squared:\n",
      "-0.012301860489455585\n",
      "param selected:\n",
      "[{'pca__n_components': 1}, {'pca__n_components': 1}, {'pca__n_components': 1}, {'pca__n_components': 1}, {'pca__n_components': 1}, {'pca__n_components': 46}]\n",
      "correlation between actual and predicted anxiety:\n",
      "(array([0.02468602]), array([0.57030883]))\n",
      "linear svm \n",
      " r squared:\n",
      "0.01191554203559253\n",
      "param selected:\n",
      "[{'regression__C': 1e-05}, {'regression__C': 1e-05}, {'regression__C': 1e-05}, {'regression__C': 1e-05}, {'regression__C': 1e-05}, {'regression__C': 1e-05}]\n",
      "correlation between actual and predicted anxiety:\n",
      "(0.14073850710172406, 0.0011473540734225041)\n",
      "nonlinear svm (degree 3)\n",
      " r squared:\n",
      "-0.003485679003002007\n",
      "param selected:\n",
      "[{'regression__C': 0.0001}, {'regression__C': 1.0}, {'regression__C': 1.0}, {'regression__C': 0.0001}, {'regression__C': 1.0}, {'regression__C': 1.0}]\n",
      "correlation between actual and predicted anxiety:\n",
      "(-0.033676703028076196, 0.43868371152031826)\n",
      "random forest\n",
      "r squared:\n",
      "0.016551249676899582\n",
      "param selected:\n",
      "[10.0, 5.0, 10.0, 10.0, 5.0, 10.0]\n",
      "correlation between actual and predicted anxiety:\n",
      "(0.14392247116420231, 0.000881069453830906)\n"
     ]
    },
    {
     "data": {
      "image/png": "[encoded data removed]",
      "text/plain": [
       "<matplotlib.figure.Figure at 0x105db5c18>"
      ]
     },
     "metadata": {},
     "output_type": "display_data"
    },
    {
     "data": {
      "text/plain": [
       "<matplotlib.figure.Figure at 0x11e4b70f0>"
      ]
     },
     "metadata": {},
     "output_type": "display_data"
    }
   ],
   "source": [
    "#try different models,plot results of best ones\n",
    "\n",
    "steps = [\n",
    "    ('standardize', StandardScaler()), \n",
    "    ('regression', Ridge())\n",
    "]\n",
    "pipeline = Pipeline(steps)\n",
    "params = {\n",
    "    'regression__alpha' : np.array([.01,.1,1,10,100,1000,10000,100000]),\n",
    "}\n",
    "#note: started with [.01,.1,1,10]. if 10 selected for every iteration of cv, added one higher power of 10 \n",
    "#until the greatest parameter was not selected for every iteration of cv (vice versa if lowest selected every time).\n",
    "# continued to do this below, within reason (i.e., sometimes it always chose the biggest value no matter how much\n",
    "#I added higher choices, so I had to stop increassing it at some point)\n",
    "\n",
    "r2,preds,param_selected =nested_cv(graph_data,anx_data,pipeline,params)\n",
    "print('Ridge regression:')\n",
    "print('r squared:')\n",
    "print(r2)\n",
    "print('param selected:')\n",
    "print(param_selected)\n",
    "print('correlation between actual and predicted anxiety:')\n",
    "print(stats.pearsonr(preds,anx_data))\n",
    "plt.figure(figsize=[5,5])\n",
    "\n",
    "plt.plot(anx_data,preds,'o',color='black')\n",
    "linreg = LinearRegression() #get regression line for plot\n",
    "\n",
    "linreg.fit(anx_data.reshape(-1, 1),preds)\n",
    "line = linreg.predict(np.array([-3,3]).reshape(-1,1))\n",
    "plt.plot([-3,3],line,color='black')\n",
    "plt.xlabel('actual anxiety score')\n",
    "plt.ylabel('predicted anxiety score')\n",
    "plt.xlim([-3,3])\n",
    "plt.ylim([-.7,.7])\n",
    "fontsize=18\n",
    "plt.rc('font',**{ 'size':fontsize})\n",
    "plt.tight_layout()\n",
    "plt.show()\n",
    "\n",
    "steps = [\n",
    "    ('standardize', StandardScaler()), \n",
    "    ('regression', PLSRegression(scale=False))\n",
    "]\n",
    "pipeline = Pipeline(steps)\n",
    "params = {\n",
    "    'regression__n_components' : np.arange(1,11),\n",
    "}\n",
    "r2,preds,param_selected =nested_cv(graph_data,anx_data,pipeline,params)\n",
    "print('PLS regression:')\n",
    "print('r squared:')\n",
    "print(r2)\n",
    "print('param selected:')\n",
    "print(param_selected)\n",
    "print('correlation between actual and predicted anxiety:')\n",
    "print(stats.pearsonr(preds,anx_data))\n",
    "\n",
    "\n",
    "#cpm\n",
    "r2_pos,r2_neg,preds_pos,preds_neg = cpm_cv(graph_data,anx_data)\n",
    "print('CPM')\n",
    "print(' r squared for positive model:')\n",
    "print(r2_pos)\n",
    "print(' r squared for negative model:')\n",
    "print(r2_neg)\n",
    "\n",
    "print('corr between actual and predicted anxiety for positive model:')\n",
    "print(stats.pearsonr(preds_pos,anx_data))\n",
    "print('corr between actual and predicted anxiety for negative model:')\n",
    "print(stats.pearsonr(preds_neg,anx_data))\n",
    "\n",
    "\n",
    "\n",
    "#lasso regression\n",
    "steps = [\n",
    "    ('standardize', StandardScaler()), \n",
    "    ('regression', Lasso())\n",
    "]\n",
    "pipeline = Pipeline(steps)\n",
    "params = {\n",
    "    'regression__alpha' : np.array([.01,.1,1,10,100,1000]),\n",
    "}\n",
    "\n",
    "\n",
    "\n",
    "r2,preds,param_selected =nested_cv(graph_data,anx_data.ravel(),pipeline,params)\n",
    "\n",
    "print('Lasso regression:')\n",
    "print(' r squared:')\n",
    "print(r2)\n",
    "print('param selected:')\n",
    "print(param_selected)\n",
    "print('correlation between actual and predicted anxiety:')\n",
    "print(stats.pearsonr(preds.ravel(),anx_data.ravel()))\n",
    "\n",
    "#pcr\n",
    "steps = [\n",
    "    ('standardize', StandardScaler()), \n",
    "    ('pca',PCA()),\n",
    "    ('regression', LinearRegression())\n",
    "]\n",
    "pipeline = Pipeline(steps)\n",
    "params = {\n",
    "    'pca__n_components' : np.arange(1,50,5),\n",
    "}\n",
    "r2,preds,param_selected =nested_cv(graph_data,anx_data,pipeline,params)\n",
    "print('PCR:')\n",
    "print(' r squared:')\n",
    "print(r2)\n",
    "print('param selected:')\n",
    "print(param_selected)\n",
    "print('correlation between actual and predicted anxiety:')\n",
    "print(stats.pearsonr(preds,anx_data))\n",
    "\n",
    "\n",
    "\n",
    "\n",
    "#linear svm\n",
    "steps = [\n",
    "    ('standardize', StandardScaler()), \n",
    "    ('regression', SVR(kernel='linear'))\n",
    "]\n",
    "pipeline=Pipeline(steps)\n",
    "params =   {'regression__C': np.array([.000001,.00001,.00001,.0001,.0001,.001,.01,.1,1,10])}\n",
    "\n",
    "r2,preds,param_selected =nested_cv(graph_data,anx_data.ravel(),pipeline,params)\n",
    "print('linear svm ')\n",
    "print(' r squared:')\n",
    "print(r2)\n",
    "print('param selected:')\n",
    "print(param_selected)\n",
    "print('correlation between actual and predicted anxiety:')\n",
    "print(stats.pearsonr(preds,anx_data.ravel()))\n",
    "\n",
    "steps = [\n",
    "    ('standardize', StandardScaler()), \n",
    "    ('regression', SVR(kernel='poly',degree=3))\n",
    "]\n",
    "pipeline=Pipeline(steps)\n",
    "params =   {'regression__C': np.array([.0001,.001,.01,.1,1,10])}\n",
    "r2,preds,param_selected =nested_cv(graph_data,anx_data.ravel(),pipeline,params)\n",
    "print('nonlinear svm (degree 3)')\n",
    "print(' r squared:')\n",
    "print(r2)\n",
    "print('param selected:')\n",
    "print(param_selected)\n",
    "print('correlation between actual and predicted anxiety:')\n",
    "print(stats.pearsonr(preds,anx_data.ravel()))\n",
    "#random forest \n",
    "\n",
    "#no need for pipeline/standardize because standardizing has no effect on random forest\n",
    "\n",
    "params =    np.array([2,5,10,20,50])#max tree depth parameter\n",
    "r2,preds,param_selected =rf_tune(graph_data,anx_data.ravel(),params)\n",
    "\n",
    "print('random forest')\n",
    "print('r squared:')\n",
    "print(r2)\n",
    "print('param selected:')\n",
    "print(param_selected)\n",
    "print('correlation between actual and predicted anxiety:')\n",
    "print(stats.pearsonr(preds,anx_data.ravel()))\n",
    "\n",
    "plt.plot(anx_data,preds,'o',color='black')\n",
    "linreg = LinearRegression() #get regression line for plot\n",
    "\n",
    "linreg.fit(anx_data.reshape(-1, 1),preds)\n",
    "line = linreg.predict(np.array([-3,3]).reshape(-1,1))\n",
    "plt.plot([-3,3],line,color='black')\n",
    "plt.xlabel('actual anxiety score')\n",
    "plt.ylabel('predicted anxiety score')\n",
    "plt.show()\n"
   ]
  },
  {
   "cell_type": "code",
   "execution_count": 20,
   "metadata": {
    "collapsed": true
   },
   "outputs": [],
   "source": [
    "#try tangent matrix approach instead of pearson's correlation matrix (see Dadi et al, 2018, Varoquaox et al, 2010)\n",
    "\n",
    "#need list of subjects (in order of outcome measure) to load timecourses into python\n",
    "\n",
    "subsfile = input_data_folder + 'discovery/subsDisc.csv'\n",
    "subs = pd.read_csv(subsfile, header=None)\n",
    "subs = subs.values\n",
    "\n",
    "#load timecourses\n",
    "timecourses = []\n",
    "for [sub] in subs:\n",
    "    tc = np.loadtxt('../rest/' +sub+'/allreg_timecourse_files/fs_timecourses.csv',delimiter= ',')\n",
    "    timecourses.append(tc)\n",
    "    "
   ]
  },
  {
   "cell_type": "code",
   "execution_count": 21,
   "metadata": {},
   "outputs": [
    {
     "name": "stdout",
     "output_type": "stream",
     "text": [
      "Ridge regression, tangent matrix:\n",
      " r squared:\n",
      "0.0037617161751318795\n",
      "param selected:\n",
      "[{'regression__alpha': 1000.0}, {'regression__alpha': 1000.0}, {'regression__alpha': 100.0}, {'regression__alpha': 1000.0}, {'regression__alpha': 1000.0}, {'regression__alpha': 1000.0}]\n",
      "correlation between actual and predicted anxiety:\n",
      "(array([0.06438333]), array([0.13843226]))\n"
     ]
    }
   ],
   "source": [
    "#predict using ridge regression, freesurfer seg, tangent matrices\n",
    "steps = [\n",
    "    ('tangent', connectome.ConnectivityMeasure(kind=\"tangent\",vectorize=\"True\",discard_diagonal=\"True\")),\n",
    "    ('regression', Ridge())\n",
    "    ]\n",
    "pipeline = Pipeline(steps)\n",
    "params = {\n",
    "    'regression__alpha' : np.array([.01,.1,1,10,100,1000,10000,100000]),\n",
    "}\n",
    "r2,preds,param_selected =nested_cv(timecourses,anx_data,pipeline,params)\n",
    "print('Ridge regression, tangent matrix:')\n",
    "print(' r squared:')\n",
    "print(r2)\n",
    "print('param selected:')\n",
    "print(param_selected)\n",
    "print('correlation between actual and predicted anxiety:')\n",
    "print(stats.pearsonr(preds,anx_data))\n",
    "\n"
   ]
  },
  {
   "cell_type": "markdown",
   "metadata": {},
   "source": [
    "### Schaefer segmentation"
   ]
  },
  {
   "cell_type": "code",
   "execution_count": 22,
   "metadata": {
    "collapsed": true
   },
   "outputs": [],
   "source": [
    "#load data\n",
    "graph_data_file = input_data_folder + 'discovery/schaeferDisc.csv' \n",
    "graph_data = pd.read_csv(graph_data_file,header=None)\n",
    "graph_data = np.transpose(graph_data.values)\n"
   ]
  },
  {
   "cell_type": "code",
   "execution_count": 23,
   "metadata": {},
   "outputs": [
    {
     "name": "stdout",
     "output_type": "stream",
     "text": [
      "Ridge regression:\n",
      " r squared:\n",
      "0.0012543875440731433\n",
      "param selected:\n",
      "[{'regression__alpha': 10000000.0}, {'regression__alpha': 10000000.0}, {'regression__alpha': 10000000.0}, {'regression__alpha': 10000000.0}, {'regression__alpha': 10000000.0}, {'regression__alpha': 10000000.0}]\n",
      "correlation between actual and predicted anxiety:\n",
      "(array([0.06396105]), array([0.14104343]))\n",
      "random forest\n",
      " r squared:\n",
      "0.003190691110634414\n",
      "param selected:\n",
      "[2.0, 2.0, 2.0, 2.0, 10.0, 2.0]\n",
      "correlation between actual and predicted anxiety:\n",
      "(0.05713149303777914, 0.1886856320580397)\n"
     ]
    }
   ],
   "source": [
    "#try models that worked best with freesufer (includes one linear and one nonlinear)\n",
    "steps = [\n",
    "    ('standardize', StandardScaler()), \n",
    "    ('regression', Ridge())\n",
    "]\n",
    "pipeline = Pipeline(steps)\n",
    "params = {\n",
    "    'regression__alpha' : np.array([.01,.1,1,10,100,1000,10000,100000,1000000,10000000]),\n",
    "}\n",
    "    #gave up on increasing regularization--kept wanting more\n",
    "\n",
    "\n",
    "r2,preds,param_selected =nested_cv(graph_data,anx_data,pipeline,params)\n",
    "print('Ridge regression:')\n",
    "print(' r squared:')\n",
    "print(r2)\n",
    "print('param selected:')\n",
    "print(param_selected)\n",
    "print('correlation between actual and predicted anxiety:')\n",
    "print(stats.pearsonr(preds,anx_data))\n",
    "\n",
    "#random forest \n",
    "\n",
    "params =   np.array([2,5,10,20,50])\n",
    "r2,preds,param_selected =rf_tune(graph_data,anx_data.ravel(),params,n_estimators=500)\n",
    "\n",
    "print('random forest')\n",
    "print(' r squared:')\n",
    "print(r2)\n",
    "print('param selected:')\n",
    "print(param_selected)\n",
    "print('correlation between actual and predicted anxiety:')\n",
    "print(stats.pearsonr(preds,anx_data.ravel()))\n",
    "\n",
    "\n",
    "\n"
   ]
  },
  {
   "cell_type": "markdown",
   "metadata": {},
   "source": [
    "### Schaefer segmentation + freesurfer subcortical"
   ]
  },
  {
   "cell_type": "code",
   "execution_count": 24,
   "metadata": {
    "collapsed": true
   },
   "outputs": [],
   "source": [
    "#load data\n",
    "graph_data_file = input_data_folder + 'discovery/schaeferFsDisc.csv' \n",
    "graph_data = pd.read_csv(graph_data_file,header=None)\n",
    "graph_data = np.transpose(graph_data.values)"
   ]
  },
  {
   "cell_type": "code",
   "execution_count": 25,
   "metadata": {},
   "outputs": [
    {
     "name": "stdout",
     "output_type": "stream",
     "text": [
      "Ridge regression:\n",
      "r squared:\n",
      "0.003439342253897637\n",
      "param selected:\n",
      "[{'regression__alpha': 1000000.0}, {'regression__alpha': 10000000.0}, {'regression__alpha': 10000000.0}, {'regression__alpha': 10000000.0}, {'regression__alpha': 1000000.0}, {'regression__alpha': 1000000.0}]\n",
      "correlation between actual and predicted anxiety:\n",
      "(array([0.05911789]), array([0.17374799]))\n",
      "random forest\n",
      "r squared:\n",
      "0.0007393505299482239\n",
      "param selected:\n",
      "[2.0, 2.0, 5.0, 20.0, 20.0, 5.0]\n",
      "correlation between actual and predicted anxiety:\n",
      "(0.037821183110033275, 0.38441658038419)\n"
     ]
    }
   ],
   "source": [
    "#try models that worked best with freesufer\n",
    "steps = [\n",
    "    ('standardize', StandardScaler()), \n",
    "    ('regression', Ridge())\n",
    "]\n",
    "pipeline = Pipeline(steps)\n",
    "\n",
    "\n",
    "params = {\n",
    "    'regression__alpha' : np.array([.01,.1,1,10,100,1000,10000,100000,1000000,10000000]),\n",
    "}\n",
    "\n",
    "\n",
    "r2,preds,param_selected =nested_cv(graph_data,anx_data,pipeline,params)\n",
    "print('Ridge regression:')\n",
    "print('r squared:')\n",
    "print(r2)\n",
    "print('param selected:')\n",
    "print(param_selected)\n",
    "print('correlation between actual and predicted anxiety:')\n",
    "print(stats.pearsonr(preds,anx_data))\n",
    "\n",
    "\n",
    "#random forest \n",
    "\n",
    "\n",
    "params =   np.array([2,5,10,20,50])#max depth parameter\n",
    "\n",
    "r2,preds,param_selected =rf_tune(graph_data,anx_data.ravel(),params,n_estimators=500)\n",
    "\n",
    "print('random forest')\n",
    "print('r squared:')\n",
    "print(r2)\n",
    "print('param selected:')\n",
    "print(param_selected)\n",
    "print('correlation between actual and predicted anxiety:')\n",
    "print(stats.pearsonr(preds,anx_data.ravel()))\n",
    "\n",
    "\n"
   ]
  },
  {
   "cell_type": "markdown",
   "metadata": {},
   "source": [
    "### Shen segmentation"
   ]
  },
  {
   "cell_type": "code",
   "execution_count": 26,
   "metadata": {
    "collapsed": true
   },
   "outputs": [],
   "source": [
    "#load data\n",
    "graph_data_file = input_data_folder + 'discovery/shenDisc.csv' \n",
    "graph_data = pd.read_csv(graph_data_file,header=None)\n",
    "graph_data = np.transpose(graph_data.values)"
   ]
  },
  {
   "cell_type": "code",
   "execution_count": 27,
   "metadata": {},
   "outputs": [
    {
     "name": "stdout",
     "output_type": "stream",
     "text": [
      "Ridge regression:\n",
      " r squared:\n",
      "0.0013362662446514406\n",
      "param selected:\n",
      "[{'regression__alpha': 10000000.0}, {'regression__alpha': 1000000.0}, {'regression__alpha': 1000000.0}, {'regression__alpha': 10000000.0}, {'regression__alpha': 1000000.0}, {'regression__alpha': 1000000.0}]\n",
      "correlation between actual and predicted anxiety:\n",
      "(array([0.03801013]), array([0.38204422]))\n",
      "random forest\n",
      " r squared:\n",
      "0.0036480818932088654\n",
      "param selected:\n",
      "[2.0, 5.0, 2.0, 2.0, 5.0, 2.0]\n",
      "correlation between actual and predicted anxiety:\n",
      "(0.06489048947384161, 0.13534551072101206)\n"
     ]
    }
   ],
   "source": [
    "\n",
    "\n",
    "#try models that worked best with freesufrf\n",
    "steps = [\n",
    "    ('standardize', StandardScaler()), \n",
    "    ('regression', Ridge())\n",
    "]\n",
    "pipeline = Pipeline(steps)\n",
    "\n",
    "\n",
    "params = {\n",
    "    'regression__alpha' : np.array([.01,.1,1,10,100,1000,10000,100000,1000000,10000000]),\n",
    "}\n",
    "\n",
    "\n",
    "r2,preds,param_selected =nested_cv(graph_data,anx_data,pipeline,params)\n",
    "print('Ridge regression:')\n",
    "print(' r squared:')\n",
    "print(r2)\n",
    "print('param selected:')\n",
    "print(param_selected)\n",
    "print('correlation between actual and predicted anxiety:')\n",
    "print(stats.pearsonr(preds,anx_data))\n",
    "\n",
    "\n",
    "\n",
    "\n",
    "\n",
    "#random forest \n",
    "\n",
    "\n",
    "params =   np.array([2,5,10,20,50])\n",
    "\n",
    "r2,preds,param_selected =rf_tune(graph_data,anx_data.ravel(),params,n_estimators=500)\n",
    "\n",
    "print('random forest')\n",
    "print(' r squared:')\n",
    "print(r2)\n",
    "print('param selected:')\n",
    "print(param_selected)\n",
    "print('correlation between actual and predicted anxiety:')\n",
    "print(stats.pearsonr(preds,anx_data.ravel()))\n",
    "\n",
    "\n",
    "\n",
    "\n"
   ]
  },
  {
   "cell_type": "markdown",
   "metadata": {},
   "source": [
    "### Yeo 2011--17 networks version"
   ]
  },
  {
   "cell_type": "code",
   "execution_count": 15,
   "metadata": {
    "collapsed": true
   },
   "outputs": [],
   "source": [
    "#load data\n",
    "graph_data_file = input_data_folder + 'discovery/yeo17Disc.csv' \n",
    "graph_data = pd.read_csv(graph_data_file,header=None)\n",
    "graph_data = np.transpose(graph_data.values)"
   ]
  },
  {
   "cell_type": "code",
   "execution_count": 18,
   "metadata": {},
   "outputs": [
    {
     "name": "stdout",
     "output_type": "stream",
     "text": [
      "Ridge regression:\n",
      " r squared:\n",
      "-3.281806191046677e-05\n",
      "param selected:\n",
      "[{'regression__alpha': 10000000.0}, {'regression__alpha': 10000000.0}, {'regression__alpha': 1000000.0}, {'regression__alpha': 10000000.0}, {'regression__alpha': 10000000.0}, {'regression__alpha': 10000000.0}]\n",
      "correlation between actual and predicted anxiety:\n",
      "(array([-0.0023576]), array([0.95677638]))\n",
      "random forest\n",
      " r squared:\n",
      "0.0018410282539712552\n",
      "param selected:\n",
      "[2.0, 2.0, 2.0, 2.0, 2.0, 2.0]\n",
      "correlation between actual and predicted anxiety:\n",
      "(0.04360311291095156, 0.3159212841361896)\n"
     ]
    }
   ],
   "source": [
    "\n",
    "#try models that worked best with freesufer\n",
    "steps = [\n",
    "    ('standardize', StandardScaler()), \n",
    "    ('regression', Ridge())\n",
    "]\n",
    "pipeline = Pipeline(steps)\n",
    "\n",
    "\n",
    "params = {\n",
    "    'regression__alpha' : np.array([.01,.1,1,10,100,1000,10000,100000,1000000,10000000]),\n",
    "}\n",
    "\n",
    "r2,preds,param_selected =nested_cv(graph_data,anx_data,pipeline,params)\n",
    "print('Ridge regression:')\n",
    "print(' r squared:')\n",
    "print(r2)\n",
    "print('param selected:')\n",
    "print(param_selected)\n",
    "print('correlation between actual and predicted anxiety:')\n",
    "print(stats.pearsonr(preds,anx_data))\n",
    "\n",
    "\n",
    "\n",
    "\n",
    "#random forest \n",
    "\n",
    "\n",
    "params =   np.array([2,5,10,20,50])\n",
    "\n",
    "r2,preds,param_selected =rf_tune(graph_data,anx_data.ravel(),params,n_estimators=500)\n",
    "\n",
    "print('random forest')\n",
    "print(' r squared:')\n",
    "print(r2)\n",
    "print('param selected:')\n",
    "print(param_selected)\n",
    "print('correlation between actual and predicted anxiety:')\n",
    "print(stats.pearsonr(preds,anx_data.ravel()))\n",
    "\n",
    "\n",
    "\n"
   ]
  },
  {
   "cell_type": "markdown",
   "metadata": {},
   "source": [
    "### Yeo 2011--7 networks version plus freesurfer segmentation"
   ]
  },
  {
   "cell_type": "code",
   "execution_count": 31,
   "metadata": {
    "collapsed": true
   },
   "outputs": [],
   "source": [
    "#load data\n",
    "graph_data_file = input_data_folder + 'discovery/yeo7FsDisc.csv' \n",
    "graph_data = pd.read_csv(graph_data_file,header=None)\n",
    "graph_data = np.transpose(graph_data.values)"
   ]
  },
  {
   "cell_type": "code",
   "execution_count": 22,
   "metadata": {},
   "outputs": [
    {
     "name": "stdout",
     "output_type": "stream",
     "text": [
      "Ridge regression:\n",
      " r squared:\n",
      "0.0005577275001615867\n",
      "param selected:\n",
      "[{'regression__alpha': 1000000.0}, {'regression__alpha': 1000000.0}, {'regression__alpha': 1000000.0}, {'regression__alpha': 1000000.0}, {'regression__alpha': 1000000.0}, {'regression__alpha': 1000000.0}]\n",
      "correlation between actual and predicted anxiety:\n",
      "(array([0.03953145]), array([0.36327137]))\n"
     ]
    }
   ],
   "source": [
    "steps = [\n",
    "    ('standardize', StandardScaler()), \n",
    "    ('regression', Ridge())\n",
    "]\n",
    "pipeline = Pipeline(steps)\n",
    "\n",
    "\n",
    "params = {\n",
    "    'regression__alpha' : np.array([.01,.1,1,10,100,1000,10000,100000,1000000]),\n",
    "}\n",
    "\n",
    "\n",
    "r2,preds,param_selected =nested_cv(graph_data,anx_data,pipeline,params)\n",
    "print('Ridge regression:')\n",
    "print(' r squared:')\n",
    "print(r2)\n",
    "print('param selected:')\n",
    "print(param_selected)\n",
    "print('correlation between actual and predicted anxiety:')\n",
    "print(stats.pearsonr(preds,anx_data))\n",
    "\n",
    "\n",
    "\n",
    "\n",
    "\n",
    "\n"
   ]
  },
  {
   "cell_type": "markdown",
   "metadata": {},
   "source": [
    "### Power parcellation"
   ]
  },
  {
   "cell_type": "code",
   "execution_count": 33,
   "metadata": {
    "collapsed": true
   },
   "outputs": [],
   "source": [
    "#load data\n",
    "graph_data_file = input_data_folder + 'discovery/powerDisc.csv' \n",
    "graph_data = pd.read_csv(graph_data_file,header=None)\n",
    "graph_data = np.transpose(graph_data.values)\n",
    "compos_anx_file = input_data_folder + 'discovery/composAnxPowerDisc.csv'\n",
    "anx_data = pd.read_csv(compos_anx_file, header=None)\n",
    "anx_data = anx_data.values"
   ]
  },
  {
   "cell_type": "code",
   "execution_count": 34,
   "metadata": {},
   "outputs": [
    {
     "name": "stdout",
     "output_type": "stream",
     "text": [
      "Ridge regression:\n",
      " r squared:\n",
      "0.002310982436079412\n",
      "param selected:\n",
      "[{'regression__alpha': 10000000.0}, {'regression__alpha': 1000000.0}, {'regression__alpha': 1000000.0}, {'regression__alpha': 10000000.0}, {'regression__alpha': 10000000.0}, {'regression__alpha': 10000000.0}]\n",
      "correlation between actual and predicted anxiety:\n",
      "(array([0.07436444]), array([0.08720588]))\n",
      "random forest\n",
      " r squared:\n",
      "0.0032438192741797156\n",
      "param selected:\n",
      "[5.0, 10.0, 5.0, 20.0, 2.0, 10.0]\n",
      "correlation between actual and predicted anxiety:\n",
      "(0.05764360879534391, 0.18516311899732993)\n"
     ]
    }
   ],
   "source": [
    "\n",
    "\n",
    "#try models that worked best with freesufrf\n",
    "steps = [\n",
    "    ('standardize', StandardScaler()), \n",
    "    ('regression', Ridge())\n",
    "]\n",
    "pipeline = Pipeline(steps)\n",
    "\n",
    "\n",
    "params = {\n",
    "    'regression__alpha' : np.array([.01,.1,1,10,100,1000,10000,10000,100000,1000000,10000000]),\n",
    "}\n",
    "\n",
    "\n",
    "r2,preds,param_selected =nested_cv(graph_data,anx_data,pipeline,params)\n",
    "print('Ridge regression:')\n",
    "print(' r squared:')\n",
    "print(r2)\n",
    "print('param selected:')\n",
    "print(param_selected)\n",
    "print('correlation between actual and predicted anxiety:')\n",
    "print(stats.pearsonr(preds,anx_data))\n",
    "\n",
    "\n",
    "\n",
    "#random forest \n",
    "\n",
    "\n",
    "params =   np.array([2,5,10,20,50])\n",
    "\n",
    "r2,preds,param_selected =rf_tune(graph_data,anx_data.ravel(),params,n_estimators=500)\n",
    "\n",
    "print('random forest')\n",
    "print(' r squared:')\n",
    "print(r2)\n",
    "print('param selected:')\n",
    "print(param_selected)\n",
    "print('correlation between actual and predicted anxiety:')\n",
    "print(stats.pearsonr(preds,anx_data.ravel()))\n",
    "\n",
    "\n",
    "\n"
   ]
  },
  {
   "cell_type": "markdown",
   "metadata": {},
   "source": [
    "# Stacking models (using freesurfer)"
   ]
  },
  {
   "cell_type": "code",
   "execution_count": 3,
   "metadata": {
    "collapsed": true
   },
   "outputs": [],
   "source": [
    "#reload graph data and anx data\n",
    "graph_data_file = input_data_folder + 'discovery/fsDisc.csv' \n",
    "graph_data = pd.read_csv(graph_data_file,header=None)\n",
    "graph_data = np.transpose(graph_data.values)\n",
    "\n",
    "compos_anx_file = input_data_folder + 'discovery/composAnxDisc.csv'\n",
    "anx_data = pd.read_csv(compos_anx_file, header=None)\n",
    "anx_data = anx_data.values"
   ]
  },
  {
   "cell_type": "markdown",
   "metadata": {},
   "source": [
    "### stacked model using freesurfer graph data AND freesurfer structural data"
   ]
  },
  {
   "cell_type": "code",
   "execution_count": 7,
   "metadata": {},
   "outputs": [
    {
     "name": "stdout",
     "output_type": "stream",
     "text": [
      "Index(['lh_bankssts_thickness', 'lh_caudalanteriorcingulate_thickness',\n",
      "       'lh_caudalmiddlefrontal_thickness', 'lh_cuneus_thickness',\n",
      "       'lh_entorhinal_thickness', 'lh_fusiform_thickness',\n",
      "       'lh_inferiorparietal_thickness', 'lh_inferiortemporal_thickness',\n",
      "       'lh_isthmuscingulate_thickness', 'lh_lateraloccipital_thickness',\n",
      "       'lh_lateralorbitofrontal_thickness', 'lh_lingual_thickness',\n",
      "       'lh_medialorbitofrontal_thickness', 'lh_middletemporal_thickness',\n",
      "       'lh_parahippocampal_thickness', 'lh_paracentral_thickness',\n",
      "       'lh_parsopercularis_thickness', 'lh_parsorbitalis_thickness',\n",
      "       'lh_parstriangularis_thickness', 'lh_pericalcarine_thickness',\n",
      "       'lh_postcentral_thickness', 'lh_posteriorcingulate_thickness',\n",
      "       'lh_precentral_thickness', 'lh_precuneus_thickness',\n",
      "       'lh_rostralanteriorcingulate_thickness',\n",
      "       'lh_rostralmiddlefrontal_thickness', 'lh_superiorfrontal_thickness',\n",
      "       'lh_superiorparietal_thickness', 'lh_superiortemporal_thickness',\n",
      "       'lh_supramarginal_thickness', 'lh_frontalpole_thickness',\n",
      "       'lh_temporalpole_thickness', 'lh_transversetemporal_thickness',\n",
      "       'lh_insula_thickness'],\n",
      "      dtype='object')\n",
      "Index(['Left-Thalamus-Proper', 'Left-Caudate', 'Left-Putamen', 'Left-Pallidum',\n",
      "       'Brain-Stem', 'Left-Hippocampus', 'Left-Amygdala',\n",
      "       'Left-Accumbens-area', 'Left-VentralDC', 'Right-Thalamus-Proper',\n",
      "       'Right-Caudate', 'Right-Putamen', 'Right-Pallidum', 'Right-Hippocampus',\n",
      "       'Right-Amygdala', 'Right-Accumbens-area', 'Right-VentralDC',\n",
      "       'EstimatedTotalIntraCranialVol'],\n",
      "      dtype='object')\n"
     ]
    }
   ],
   "source": [
    "\n",
    "#get structural data\n",
    "l_parc_data = pd.read_table(input_data_folder + 'discovery/aparc_stats_lh_Disc.txt')\n",
    "l_parc_data = l_parc_data.drop(labels=['lh.aparc.thickness','lh_MeanThickness_thickness'],axis = 1)\n",
    "print(l_parc_data.columns)\n",
    "l_parc_data = l_parc_data.values\n",
    "r_parc_data = pd.read_table(input_data_folder + 'discovery/aparc_stats_rh_Disc.txt')\n",
    "r_parc_data = r_parc_data.drop(labels=['rh.aparc.thickness','rh_MeanThickness_thickness'],axis = 1)\n",
    "r_parc_data = r_parc_data.values\n",
    "aseg_data = pd.read_table(input_data_folder + 'discovery/aseg_stats_Disc.txt')\n",
    "aseg_data = aseg_data.drop(['Measure:volume',  'BrainSegVol',\n",
    "       'BrainSegVolNotVent', 'BrainSegVolNotVentSurf', 'lhCortexVol',\n",
    "       'rhCortexVol', 'CortexVol', 'SubCortGrayVol', 'TotalGrayVol',\n",
    "       'SupraTentorialVol', 'SupraTentorialVolNotVent',\n",
    "       'SupraTentorialVolNotVentVox', 'MaskVol', 'BrainSegVol-to-eTIV',\n",
    "       'MaskVol-to-eTIV', 'lhSurfaceHoles', 'rhSurfaceHoles', 'SurfaceHoles',],axis = 1)\n",
    "print(aseg_data.columns)\n",
    "\n",
    "\n",
    "aseg_data =aseg_data.values\n",
    "#scale volumes by icv\n",
    "aseg_data_corrected =aseg_data[:,:-1]/aseg_data[:,-1].reshape(aseg_data.shape[0],1)\n",
    "#merge aseg and aparc data\n",
    "\n",
    "aseg_aparc_data = np.concatenate((aseg_data_corrected,l_parc_data),axis = 1)\n",
    "aseg_aparc_data = np.concatenate((aseg_aparc_data,r_parc_data),axis = 1)"
   ]
  },
  {
   "cell_type": "code",
   "execution_count": 38,
   "metadata": {},
   "outputs": [
    {
     "name": "stdout",
     "output_type": "stream",
     "text": [
      " r squared:\n",
      "0.035987504110381874\n",
      "correlation between actual and predicted anxiety:\n",
      "(array([0.22200893]), array([2.36070104e-07]))\n"
     ]
    }
   ],
   "source": [
    "#stacking model\n",
    "#linear regression outer (stacking) model\n",
    "linreg_pipeline_steps = [\n",
    " ('standardize', StandardScaler()), \n",
    "('regression', LinearRegression())\n",
    "]\n",
    "linreg_pipeline = Pipeline(linreg_pipeline_steps)\n",
    "\n",
    "inner_pipeline_steps = [\n",
    " ('standardize', StandardScaler()), \n",
    "('regression', Ridge(1000))\n",
    "]\n",
    "inner_pipeline = Pipeline(inner_pipeline_steps)\n",
    "\n",
    "\n",
    "\n",
    "r2,preds = stack([graph_data,aseg_aparc_data],anx_data,inner_pipeline,linreg_pipeline)\n",
    "print(' r squared:')\n",
    "print(r2)\n",
    "print('correlation between actual and predicted anxiety:')\n",
    "print(stats.pearsonr(preds,anx_data))\n",
    "\n",
    "\n",
    "\n"
   ]
  },
  {
   "cell_type": "markdown",
   "metadata": {},
   "source": [
    "### inspired by Rahim et al 2016: stacking with multiple voxelwise fcmri maps\n",
    "### for each of 85 fs seeds, make whole brain connectivity map. extract the zstat values from all grey matter voxels. make a ridge regression model from each seed map, with each voxel's value as predictor. stack these 85 models with another ridge model. tune lambda of this model with cv. \n",
    "\n",
    "### since this involves 85 really big data files and running >7000 models, I trained the base models on the HPC and saved the \"meta features\". the function I'm calling here reads in these results to build the stacked model.\n",
    "\n",
    "### it does pretty poorly...perhaps having so many models in the stacked model is not good..."
   ]
  },
  {
   "cell_type": "code",
   "execution_count": 34,
   "metadata": {},
   "outputs": [
    {
     "name": "stdout",
     "output_type": "stream",
     "text": [
      " r squared:\n",
      "0.005360588361952745\n",
      "correlation between actual and predicted anxiety:\n",
      "(array([0.11200543]), array([0.00979339]))\n"
     ]
    },
    {
     "data": {
      "text/plain": [
       "[<matplotlib.lines.Line2D at 0x11af4e128>]"
      ]
     },
     "execution_count": 34,
     "metadata": {},
     "output_type": "execute_result"
    },
    {
     "data": {
      "image/png": "[encoded data removed]",
      "text/plain": [
       "<matplotlib.figure.Figure at 0x1041e78d0>"
      ]
     },
     "metadata": {},
     "output_type": "display_data"
    }
   ],
   "source": [
    "#load seed names\n",
    "reg_table = pd.read_table('fs_regions.txt',header=None)\n",
    "seeds = reg_table[1].values\n",
    "\n",
    "\n",
    "outer_pipeline_steps = [\n",
    " ('standardize', StandardScaler()), \n",
    "('regression', Ridge())\n",
    "]\n",
    "outer_pipeline = Pipeline(outer_pipeline_steps)\n",
    "param_grid = {'regression__alpha':[1,10,100,1000,10000,100000,1000000]}\n",
    "\n",
    "r2,preds,_ = stack_from_meta_tune(anx_data,outer_pipeline,seeds,param_grid)\n",
    "print(' r squared:')\n",
    "print(r2)\n",
    "print('correlation between actual and predicted anxiety:')\n",
    "print(stats.pearsonr(preds,anx_data))\n",
    "\n",
    "\n",
    "\n",
    "plt.plot(preds,anx_data,'o')"
   ]
  },
  {
   "cell_type": "markdown",
   "metadata": {},
   "source": [
    "### stacked model with graph data, volume data, and amygdala seed map\n"
   ]
  },
  {
   "cell_type": "code",
   "execution_count": 6,
   "metadata": {
    "collapsed": true
   },
   "outputs": [],
   "source": [
    "##load voxelwise amyg conn\n",
    "amyg_data = pd.read_csv(input_data_folder + 'discovery/seed_maps/Amygdala.csv',header=None).values\n",
    "#zscore within subject but ignore zeros (which indicate missing data).\n",
    "#dont want to include zeros or imputed values in zscoring w/in sub\n",
    "zero_idx = amyg_data==0\n",
    "amyg_naned = np.array(amyg_data)\n",
    "amyg_naned[zero_idx] = np.nan\n",
    "amyg_data_z = np.array(amyg_data)\n",
    "for i in range(amyg_data.shape[0]):\n",
    "    amyg_data_z[i,~np.isnan(amyg_naned[i,:])]= stats.zscore(amyg_data_z[i,~np.isnan(amyg_naned[i,:])])\n",
    "\n"
   ]
  },
  {
   "cell_type": "code",
   "execution_count": 51,
   "metadata": {},
   "outputs": [
    {
     "name": "stdout",
     "output_type": "stream",
     "text": [
      " r squared:\n",
      "0.05815717621046623\n",
      "correlation between actual and predicted anxiety:\n",
      "(array([0.25757009]), array([1.70967328e-09]))\n"
     ]
    },
    {
     "data": {
      "image/png": "[encoded data removed]",
      "text/plain": [
       "<matplotlib.figure.Figure at 0x11e5d4978>"
      ]
     },
     "metadata": {},
     "output_type": "display_data"
    }
   ],
   "source": [
    "#linear regression outer (stacking) model\n",
    "linreg_pipeline_steps = [\n",
    " ('standardize', StandardScaler()), \n",
    "('regression', LinearRegression())\n",
    "]\n",
    "linreg_pipeline = Pipeline(linreg_pipeline_steps)\n",
    "\n",
    "inner_pipeline_steps = [\n",
    "('impute',Imputer(missing_values=0,strategy='mean')),#only relevant for  amyg_data\n",
    "('standardize', StandardScaler()), \n",
    "('regression', Ridge(1000))\n",
    "]\n",
    "inner_pipeline = Pipeline(inner_pipeline_steps)\n",
    "\n",
    "r2,preds = stack([graph_data,aseg_aparc_data,amyg_data_z],anx_data,inner_pipeline,linreg_pipeline)\n",
    "print(' r squared:')\n",
    "print(r2)\n",
    "\n",
    "print('correlation between actual and predicted anxiety:')\n",
    "print(stats.pearsonr(preds,anx_data))\n",
    "\n",
    "\n",
    "\n",
    "plt.plot(anx_data,preds,'o',color='black')\n",
    "linreg = LinearRegression() #get regression line for plot\n",
    "\n",
    "linreg.fit(anx_data.reshape(-1, 1),preds)\n",
    "line = linreg.predict(np.array([-3,3]).reshape(-1,1))\n",
    "plt.plot([-3,3],line,color='black')\n",
    "plt.xlabel('actual anxiety score')\n",
    "plt.ylabel('predicted anxiety score')\n",
    "plt.xlim([-3,3])\n",
    "plt.ylim([-.5,.5])\n",
    "fontsize=18\n",
    "plt.rc('font',**{ 'size':fontsize})\n",
    "plt.tight_layout()\n",
    "plt.savefig(output_data_folder + 'discovery/stack3.png')\n",
    "#save data for making better figure.\n",
    "np.savetxt(output_data_folder + 'discovery/preds_stack3_disc.csv',preds,delimiter=',')\n",
    "\n"
   ]
  },
  {
   "cell_type": "code",
   "execution_count": 86,
   "metadata": {},
   "outputs": [
    {
     "name": "stdout",
     "output_type": "stream",
     "text": [
      "0.0\n"
     ]
    },
    {
     "data": {
      "image/png": "[encoded data removed]",
      "text/plain": [
       "<matplotlib.figure.Figure at 0x11e152320>"
      ]
     },
     "metadata": {},
     "output_type": "display_data"
    }
   ],
   "source": [
    "#permutation test\n",
    "linreg_pipeline_steps = [\n",
    " ('standardize', StandardScaler()), \n",
    "('regression', LinearRegression())\n",
    "]\n",
    "linreg_pipeline = Pipeline(linreg_pipeline_steps)\n",
    "\n",
    "inner_pipeline_steps = [\n",
    " ('standardize', StandardScaler()), \n",
    "('regression', Ridge(1000))\n",
    "]\n",
    "inner_pipeline = Pipeline(inner_pipeline_steps)\n",
    "\n",
    "\n",
    "\n",
    "null_scores,p,actual_score = stack_perm([graph_data,aseg_aparc_data,amyg_data_z],\n",
    "                                        anx_data,inner_pipeline,linreg_pipeline,1000,\n",
    "                                        figname=output_data_folder + 'discovery/stack3_perm.png')\n",
    "np.savetxt(output_data_folder + 'discovery/null_r2_disc.csv',null_r2,delimiter=',')\n",
    "\n",
    "print(p)"
   ]
  },
  {
   "cell_type": "markdown",
   "metadata": {
    "collapsed": true
   },
   "source": [
    "### see if results hold in discovery sample when controlling for confounds"
   ]
  },
  {
   "cell_type": "code",
   "execution_count": 45,
   "metadata": {},
   "outputs": [
    {
     "name": "stdout",
     "output_type": "stream",
     "text": [
      "531\n",
      "stacked model plus confound regression:\n",
      " r squared:\n",
      "0.046139766722673836\n",
      "correlation between actual and predicted anxiety:\n",
      "(array([0.23584534]), array([3.80550394e-08]))\n"
     ]
    }
   ],
   "source": [
    "#regress out confounds, using ConfoundRegressor from skbold package. this regresses out confound using only \n",
    "#information from the training fold in cv, so you are not using test data in the model generation process.\n",
    "#ConfoundRegressor takes the X matrix as a parameter, along with the confound matrix. \n",
    "#in a given fold of CV, it finds the relevant rows of X which are being used as training data and takes the \n",
    "#corresponding rows of confound matrix. for huge x matrices, comparing them elementwise is very time consuming, \n",
    "#so a shortcut is to compare sum across columns. this is a problem for my amyg data because i z scored across \n",
    "#columns, so they sum to zero. so I handle this by adding a column of random numbers to X, so sums will be unique.\n",
    "\n",
    "conf_mat = pd.read_csv(input_data_folder + 'discovery/confMatDisc.csv',header=None)\n",
    "conf_mat = conf_mat.values[:,1:]#first column is intercept which will be added by ConfoundRegressor\n",
    "\n",
    "#add random column to amyg data so can use precise=False setting\n",
    "#note: confirmed that this doesn't affect results in analysis when not controlling for confounds\n",
    "np.random.seed(55)\n",
    "randnum = np.random.rand(len(anx_data),1)\n",
    "#make sure unique\n",
    "print(len(np.unique(randnum)))\n",
    "amyg_data_z_r = np.concatenate((amyg_data_z,randnum),axis=1)\n",
    "\n",
    "\n",
    "\n",
    "steps = [\n",
    "    ('standardize', StandardScaler()), \n",
    "    ('regression', LinearRegression())\n",
    "]\n",
    "linreg_pipeline = Pipeline(steps)\n",
    "\n",
    "#add ConfoundRegressor step to inner model \n",
    "\n",
    "inner_pipeline_steps = [\n",
    "    #note--has to be in this order, if X data is transformed ConfoundRegressor wont work\n",
    "    ('conf_reg',ConfoundRegressor(conf_mat,graph_data)),#X data will be reset within stack function\n",
    "    ('impute',Imputer(missing_values=0,strategy='mean')),\n",
    " ('standardize', StandardScaler()), \n",
    "('regression', Ridge(1000))\n",
    "]\n",
    "inner_pipeline = Pipeline(inner_pipeline_steps)\n",
    "\n",
    "\n",
    "r2,preds = stack([graph_data,aseg_aparc_data,amyg_data_z_r],anx_data,\n",
    "                                          inner_pipeline,linreg_pipeline)\n",
    "print('stacked model plus confound regression:')\n",
    "\n",
    "print(' r squared:')\n",
    "print(r2)\n",
    "print('correlation between actual and predicted anxiety:')\n",
    "print(stats.pearsonr(preds,anx_data))\n",
    "\n"
   ]
  },
  {
   "cell_type": "code",
   "execution_count": 22,
   "metadata": {},
   "outputs": [
    {
     "name": "stdout",
     "output_type": "stream",
     "text": [
      "0.0\n"
     ]
    },
    {
     "data": {
      "image/png": "[encoded data removed]",
      "text/plain": [
       "<matplotlib.figure.Figure at 0x11ce4a438>"
      ]
     },
     "metadata": {},
     "output_type": "display_data"
    }
   ],
   "source": [
    "#permutation for confound version\n",
    "\n",
    "linreg_pipeline_steps = [\n",
    " ('standardize', StandardScaler()), \n",
    "('regression', LinearRegression())\n",
    "]\n",
    "linreg_pipeline = Pipeline(linreg_pipeline_steps)\n",
    "\n",
    "inner_pipeline_steps = [\n",
    "    #note--has to be in this order, if X data is transformed ConfoundRegressor wont work\n",
    "    ('conf_reg',ConfoundRegressor(conf_mat,graph_data)),#X data will be reset within stack function\n",
    "    ('impute',Imputer(missing_values=0,strategy='mean')),\n",
    " ('standardize', StandardScaler()), \n",
    "('regression', Ridge(1000))\n",
    "]\n",
    "\n",
    "\n",
    "\n",
    "null_scores,p,actual_score = stack_perm([graph_data,aseg_aparc_data,amyg_data_z_r],\n",
    "                                        anx_data,inner_pipeline,linreg_pipeline,1000,\n",
    "                                        figname=output_data_folder + 'discovery/stack3_conf_disc_perm.png')\n",
    "\n",
    "print(p)"
   ]
  },
  {
   "cell_type": "markdown",
   "metadata": {},
   "source": [
    "# predict on held out test data"
   ]
  },
  {
   "cell_type": "code",
   "execution_count": 8,
   "metadata": {},
   "outputs": [
    {
     "name": "stdout",
     "output_type": "stream",
     "text": [
      "(348, 3570)\n",
      "(348, 1)\n",
      "(348, 85)\n"
     ]
    }
   ],
   "source": [
    "#load test data\n",
    "graph_data_file_test = input_data_folder + 'holdout/fsHoldout.csv'\n",
    "graph_data_test = pd.read_csv(graph_data_file_test,header=None)\n",
    "graph_data_test = np.transpose(graph_data_test.values)\n",
    "\n",
    "compos_anx_file_test =  input_data_folder + 'holdout/composAnxTest.csv'\n",
    "anx_data_test = pd.read_csv(compos_anx_file_test, header=None)\n",
    "anx_data_test = anx_data_test.values\n",
    "\n",
    "print(graph_data_test.shape)\n",
    "print(anx_data_test.shape)\n",
    "\n",
    "#get structural data\n",
    "l_parc_data = pd.read_table( input_data_folder + 'holdout/aparc_stats_lh_Holdout.txt')\n",
    "l_parc_data = l_parc_data.drop(labels=['lh.aparc.thickness','lh_MeanThickness_thickness'],axis = 1)\n",
    "l_parc_data = l_parc_data.values\n",
    "\n",
    "\n",
    "r_parc_data = pd.read_table( input_data_folder + 'holdout/aparc_stats_rh_Holdout.txt')\n",
    "r_parc_data = r_parc_data.drop(labels=['rh.aparc.thickness','rh_MeanThickness_thickness'],axis = 1)\n",
    "r_parc_data = r_parc_data.values\n",
    "\n",
    "\n",
    "aseg_data = pd.read_table( input_data_folder + 'holdout/aseg_stats_Holdout.txt')\n",
    "aseg_data = aseg_data.drop(['Measure:volume',  'BrainSegVol',\n",
    "       'BrainSegVolNotVent', 'BrainSegVolNotVentSurf', 'lhCortexVol',\n",
    "       'rhCortexVol', 'CortexVol', 'SubCortGrayVol', 'TotalGrayVol',\n",
    "       'SupraTentorialVol', 'SupraTentorialVolNotVent',\n",
    "       'SupraTentorialVolNotVentVox', 'MaskVol', 'BrainSegVol-to-eTIV',\n",
    "       'MaskVol-to-eTIV', 'lhSurfaceHoles', 'rhSurfaceHoles', 'SurfaceHoles',],axis = 1)\n",
    "\n",
    "aseg_data =aseg_data.values\n",
    "#scale volumes by icv\n",
    "aseg_data_corrected =aseg_data[:,:-1]/aseg_data[:,-1].reshape(aseg_data.shape[0],1)\n",
    "\n",
    "\n",
    "#merge aseg and aparc data\n",
    "\n",
    "aseg_aparc_data_test = np.concatenate((aseg_data_corrected,l_parc_data),axis = 1)\n",
    "aseg_aparc_data_test = np.concatenate((aseg_aparc_data_test,r_parc_data),axis = 1)\n",
    "print(aseg_aparc_data_test.shape)\n",
    "\n",
    "\n",
    "\n",
    "\n",
    "#amyg data\n",
    "amyg_data_test = pd.read_csv(input_data_folder + 'holdout/Amygdala.csv',header=None).values\n",
    "#zscore within subject but ignore zeros (which indicate missing data). dont want to include zeros or imputed values in zscoring w/in sub\n",
    "zero_idx_test = amyg_data_test==0\n",
    "amyg_naned_test = np.array(amyg_data_test)\n",
    "amyg_naned_test[zero_idx_test] = np.nan\n",
    "amyg_data_z_test = np.array(amyg_data_test)\n",
    "for i in range(amyg_data_test.shape[0]):\n",
    "    amyg_data_z_test[i,~np.isnan(amyg_naned_test[i,:])]= stats.zscore(\n",
    "        amyg_data_z_test[i,~np.isnan(amyg_naned_test[i,:])])\n",
    "\n"
   ]
  },
  {
   "cell_type": "code",
   "execution_count": 9,
   "metadata": {},
   "outputs": [
    {
     "name": "stdout",
     "output_type": "stream",
     "text": [
      " r squared:\n",
      "-0.04004173526936006\n",
      "correlation between actual and predicted anxiety:\n",
      "(array([0.01654413]), array([0.7584344]))\n"
     ]
    },
    {
     "data": {
      "image/png": "[encoded data removed]",
      "text/plain": [
       "<matplotlib.figure.Figure at 0x12951e7b8>"
      ]
     },
     "metadata": {},
     "output_type": "display_data"
    }
   ],
   "source": [
    "#rebuild best model using all the training data (no cv) and test on holdout\n",
    "\n",
    "Xs_train = [graph_data,aseg_aparc_data,amyg_data_z]\n",
    "Xs_test = [graph_data_test,aseg_aparc_data_test,amyg_data_z_test]\n",
    "y_train = anx_data\n",
    "y_test = anx_data_test\n",
    "\n",
    "\n",
    "linreg_pipeline_steps = [\n",
    " ('standardize', StandardScaler()), \n",
    "('regression', LinearRegression())\n",
    "]\n",
    "linreg_pipeline = Pipeline(linreg_pipeline_steps)\n",
    "\n",
    "inner_pipeline_steps = [\n",
    "('impute',Imputer(missing_values=0,strategy='mean')),#only relevant for  amyg_data\n",
    "('standardize', StandardScaler()), \n",
    "('regression', Ridge(1000))\n",
    "]\n",
    "inner_pipeline = Pipeline(inner_pipeline_steps)\n",
    "\n",
    "r2,preds,weights = stack_test(Xs_train,y_train,Xs_test,y_test,inner_pipeline,linreg_pipeline)\n",
    "\n",
    "print(' r squared:')\n",
    "print(r2)\n",
    "\n",
    "print('correlation between actual and predicted anxiety:')\n",
    "print(stats.pearsonr(y_test,preds))\n",
    "\n",
    "\n",
    "\n",
    "plt.plot(y_test,preds,'o',color='black')\n",
    "linreg = LinearRegression() #get regression line for plot\n",
    "\n",
    "linreg.fit(y_test.reshape(-1, 1),preds)\n",
    "line = linreg.predict(np.array([-3,3.5]).reshape(-1,1))\n",
    "plt.plot([-3,3.5],line,color='black')\n",
    "plt.xlabel('actual anxiety score')\n",
    "plt.ylabel('predicted anxiety score')\n",
    "plt.xlim([-2.5,3.5])\n",
    "plt.ylim([-.8,.6])\n",
    "fontsize=18\n",
    "plt.rc('font',**{ 'size':fontsize})\n",
    "plt.tight_layout()\n",
    "plt.show\n",
    "plt.savefig(output_data_folder + 'holdout/stack_holdout.png')\n",
    "np.savetxt(output_data_folder + 'holdout/preds_stack3_holdout.csv',preds,delimiter=',')\n",
    "\n"
   ]
  },
  {
   "cell_type": "code",
   "execution_count": 50,
   "metadata": {},
   "outputs": [
    {
     "data": {
      "text/plain": [
       "0.962"
      ]
     },
     "execution_count": 50,
     "metadata": {},
     "output_type": "execute_result"
    },
    {
     "data": {
      "image/png": "[encoded data removed]",
      "text/plain": [
       "<matplotlib.figure.Figure at 0x11e4287b8>"
      ]
     },
     "metadata": {},
     "output_type": "display_data"
    }
   ],
   "source": [
    "# permutation test\n",
    "null_r2,p,act = stack_test_perm(Xs_train,y_train,Xs_test,y_test,\n",
    "                inner_pipeline,linreg_pipeline,1000,output_data_folder + 'holdout/stack_holdout_perm.png')\n",
    "np.savetxt(output_data_folder + 'holdout/null_r2_holdout.csv',null_r2,delimiter=',')\n",
    "p"
   ]
  },
  {
   "cell_type": "markdown",
   "metadata": {
    "collapsed": true
   },
   "source": [
    "#### trying to understand results more--did we shoot ourselves in the foot by testing too many models? to test this explanation of model failure, see if a tested early in model comparison process --ridge regression with freesurfer segmentation on graph data only--does better in holdout than final model (above). it doesn't.\n"
   ]
  },
  {
   "cell_type": "code",
   "execution_count": 10,
   "metadata": {},
   "outputs": [
    {
     "name": "stdout",
     "output_type": "stream",
     "text": [
      "-0.06054602934134379\n",
      "(array([0.00269189]), array([0.9600937]))\n"
     ]
    }
   ],
   "source": [
    "steps = [\n",
    "    ('standardize', StandardScaler()), \n",
    "    ('regression', Ridge())\n",
    "]\n",
    "pipeline = Pipeline(steps)\n",
    "params = {\n",
    "    'regression__alpha' : np.array([.01,.1,1,10,100,1000,10000,100000]),\n",
    "}\n",
    "\n",
    "\n",
    "cv = cv_stratified(6,y_train)\n",
    "grid= GridSearchCV(estimator=pipeline, param_grid=params, cv=cv, scoring='r2')  \n",
    "\n",
    "grid.fit(graph_data, y_train)\n",
    "preds = grid.best_estimator_.predict(graph_data_test)\n",
    "r2 = r2_score(y_test,preds)\n",
    "print(r2)\n",
    "print(stats.pearsonr(y_test,preds))"
   ]
  },
  {
   "cell_type": "code",
   "execution_count": 11,
   "metadata": {},
   "outputs": [
    {
     "name": "stdout",
     "output_type": "stream",
     "text": [
      "[-0.0876838370402782, 0.004772020818959784]\n",
      "[-0.11688422232308911, -0.004602838813814639]\n"
     ]
    }
   ],
   "source": [
    "#bootstrap test to formally compare the two models\n",
    "test_inds = np.arange(len(y_test))\n",
    "n_iter = 1000\n",
    "m1_r2 = np.zeros(n_iter)\n",
    "m2_r2 = np.zeros(n_iter)\n",
    "for i in range(n_iter):\n",
    "    \n",
    "    #sample the test data\n",
    "    ind_sampled = np.random.choice(test_inds,len(test_inds))\n",
    "    y_test_samp = y_test[ind_sampled]\n",
    "    graph_data_test_samp = graph_data_test[ind_sampled]\n",
    "    Xs_test_samp = [graph_data_test[ind_sampled],aseg_aparc_data_test[ind_sampled],amyg_data_z_test[ind_sampled]]\n",
    "\n",
    "    #compute r2 of the two models on the resampled test data\n",
    "    m1_r2[i],_,_ = stack_test(Xs_train,y_train,Xs_test_samp,y_test_samp,inner_pipeline,linreg_pipeline)\n",
    "\n",
    "    preds = grid.best_estimator_.predict(graph_data_test_samp)\n",
    "    m2_r2[i] = r2_score(y_test_samp,preds)\n",
    "\n",
    "#calculate confidence intervals\n",
    "ci_m1 = [np.percentile(m1_r2, 2.5),np.percentile(m1_r2, 97.5)]\n",
    "ci_m2 = [np.percentile(m2_r2, 2.5),np.percentile(m2_r2, 97.5)]\n",
    "print(ci_m1)\n",
    "print(ci_m2)\n",
    "    \n",
    "\n"
   ]
  },
  {
   "cell_type": "code",
   "execution_count": 12,
   "metadata": {},
   "outputs": [
    {
     "name": "stdout",
     "output_type": "stream",
     "text": [
      "[-0.01074409361717874, 0.0477092886991899]\n"
     ]
    },
    {
     "data": {
      "image/png": "[encoded data removed]",
      "text/plain": [
       "<matplotlib.figure.Figure at 0x12954f978>"
      ]
     },
     "metadata": {},
     "output_type": "display_data"
    }
   ],
   "source": [
    "dif_r2 = m1_r2-m2_r2\n",
    "plt.hist(dif_r2)\n",
    "ci_dif = [np.percentile(dif_r2, 2.5),np.percentile(dif_r2, 97.5)]\n",
    "print(ci_dif)"
   ]
  },
  {
   "cell_type": "code",
   "execution_count": null,
   "metadata": {
    "collapsed": true
   },
   "outputs": [],
   "source": []
  }
 ],
 "metadata": {
  "kernelspec": {
   "display_name": "Python 3",
   "language": "python",
   "name": "python3"
  },
  "language_info": {
   "codemirror_mode": {
    "name": "ipython",
    "version": 3
   },
   "file_extension": ".py",
   "mimetype": "text/x-python",
   "name": "python",
   "nbconvert_exporter": "python",
   "pygments_lexer": "ipython3",
   "version": "3.6.1"
  }
 },
 "nbformat": 4,
 "nbformat_minor": 2
}
