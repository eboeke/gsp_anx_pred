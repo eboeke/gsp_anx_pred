{
 "cells": [
  {
   "cell_type": "code",
   "execution_count": 1,
   "metadata": {
    "collapsed": true
   },
   "outputs": [],
   "source": [
    "import pandas as pd\n",
    "import numpy as np\n",
    "\n",
    "\n",
    "from sklearn.linear_model import Ridge\n",
    "from sklearn.model_selection import GridSearchCV\n",
    "from sklearn.preprocessing import StandardScaler,Imputer\n",
    "from sklearn.metrics import r2_score\n",
    "from sklearn.pipeline import Pipeline\n",
    "from sklearn.linear_model import LinearRegression\n",
    "from sklearn.base import BaseEstimator, TransformerMixin,RegressorMixin\n",
    "\n",
    "\n",
    "from skrvm import RVR\n",
    "%matplotlib inline\n",
    "import matplotlib.pyplot as plt\n",
    "from scipy import stats\n",
    "import random\n",
    "\n",
    "from joblib import Parallel, delayed\n",
    "\n",
    "parent_folder = '/Volumes/phelpslab2/Emily/gsp/'\n",
    "input_data_folder = parent_folder + 'processed_data_for_models/'\n",
    "output_data_folder = parent_folder + 'python_modeling_output/'"
   ]
  },
  {
   "cell_type": "markdown",
   "metadata": {},
   "source": [
    "### functions from anx_pred_modeling.ipynb"
   ]
  },
  {
   "cell_type": "code",
   "execution_count": 2,
   "metadata": {
    "collapsed": true
   },
   "outputs": [],
   "source": [
    "def cv_stratified(n_folds,y):\n",
    "    #creates stratified cross validation folds (for k-fold cv) using continuous target variable (y) \n",
    "    #Args:\n",
    "        #n_folds, number of folds for cv\n",
    "        #y, the target variable\n",
    "    #Returns:\n",
    "        #CViterator, iterable of length n_folds that can be used with gridsearchcv\n",
    "    idx = np.argsort(y,0)\n",
    "    n = len(y)\n",
    "    all_idx = np.arange(n)\n",
    "\n",
    "    CViterator = []\n",
    "    for k in range(n_folds):\n",
    "        test_idx = idx[np.arange(k,n,n_folds)].ravel()\n",
    "        test_bool = np.zeros(n,dtype=bool)\n",
    "        test_bool[test_idx]=True\n",
    "        train_bool= ~test_bool\n",
    "        train_idx = all_idx[train_bool]\n",
    "\n",
    "        CViterator.append((train_idx,test_idx))\n",
    "    return(CViterator)\n",
    "    "
   ]
  },
  {
   "cell_type": "code",
   "execution_count": 3,
   "metadata": {
    "collapsed": true
   },
   "outputs": [],
   "source": [
    "def nested_cv(X,y,estimator,param_grid):\n",
    "    #performs nested cv (6 fold for inner and outer) for selecting hyperparameters\n",
    "    #Args:\n",
    "        #X, np array of features (n x n_features) or list (length n) of  timecourse nparrays for nilearn\n",
    "        #y, the target variable\n",
    "        #estimator, sklearn estimator\n",
    "        #param_grid, list of hyperparameter values\n",
    "    #Returns:\n",
    "        #r2, r2 score\n",
    "        #preds, predictions of model (in same order as y)\n",
    "        #param_selected, hyperparameter value that was chosen.\n",
    "    n_folds = 6\n",
    "    outer_cv = cv_stratified(n_folds,y)\n",
    "\n",
    "    param_selected = []\n",
    "    preds = np.zeros(np.shape(y))\n",
    "    \n",
    "    for train, test in outer_cv:\n",
    "        inner_cv = cv_stratified(n_folds,y[train])\n",
    "        if type(X)==list: #this allows for tangent matrix approach via nilearn\n",
    "            X_train = [X[i] for i in train]\n",
    "            X_test = [X[i] for i in test]\n",
    "        else:\n",
    "            X_train = X[train]\n",
    "            X_test = X[test]\n",
    "  \n",
    "        reg_inner= GridSearchCV(estimator=estimator, param_grid=param_grid, cv=inner_cv, scoring='r2')  \n",
    "        \n",
    "        reg_inner.fit(X_train, y[train])\n",
    "        param_selected.append(reg_inner.best_params_)\n",
    "        preds[test] = reg_inner.best_estimator_.predict(X_test)\n",
    "\n",
    "        r2 = r2_score(y,preds)\n",
    "    return(r2,preds,param_selected)\n",
    "\n"
   ]
  },
  {
   "cell_type": "code",
   "execution_count": 4,
   "metadata": {
    "collapsed": true
   },
   "outputs": [],
   "source": [
    "def stack(Xs,y,inner_pipeline,outer_pipeline):\n",
    "    #performs model stacking for different X datasets, eg, rfMRI data and structural data\n",
    "    #does not do hyperparameter selection\n",
    "    #Args:\n",
    "        #Xs is a list containing the features for different datasets. elements should be n x n_feat np arrays\n",
    "        #y: target variable, length n\n",
    "        #inner pipeline: pipeline containing inner (base) model\n",
    "        #outer_pipeline: pipeline containing outer (stacking) model\n",
    "    #Output:\n",
    "        #r2, r squared of stacked model averaged over cv folds\n",
    "        #preds,  model predictions\n",
    "    \n",
    "    n_folds = 6#folds for outer cv for model evaluation\n",
    "    outer_cv = cv_stratified(n_folds,y) #splits for outer cv for model evaluation\n",
    "    preds = np.zeros(np.shape(y))\n",
    "    num_models = len(Xs)\n",
    "    for train, test in outer_cv:\n",
    "        y_train_outer = y[train]\n",
    "        y_test_outer = y[test]\n",
    "        stack_split = cv_stratified(num_models,y_train_outer)#split into folds for model stacking\n",
    "        \n",
    "        #'meta' features (training)--model predictions for dif data sources, (for training examples of outer \n",
    "        #cv. calculated on each inner test fold):\n",
    "        meta_feat_train = np.zeros((len(y_train_outer),num_models))\n",
    "        # 'meta' features (testing)--model predictions, (for test examples of outer cv. \n",
    "        #for each data source, for each inner fold of stacking, get data source predictions for each test example.\n",
    "        # so 3d array-- n outer test subs x n base models x n inner folds. and here n inner folds = n base models):\n",
    "        meta_feat_test = np.zeros((len(y_test_outer),num_models,num_models))\n",
    "        for m in np.arange(num_models): #have to run each model\n",
    "            X = Xs[m]#select the relevant x dataset\n",
    "            X_train_outer = X[train] #training examples for outer cv (for model evaluation)\n",
    "            X_test_outer = X[test]\n",
    "            #if doing confound regressor, reset X matrix in ConfoundRegressor step:\n",
    "            if 'conf_reg' in inner_pipeline.named_steps.keys():\n",
    "                steps_new = inner_pipeline.named_steps\n",
    "                steps_new['conf_reg'] = ConfoundRegressor(inner_pipeline.named_steps['conf_reg'].confound,X)\n",
    "                steps_new = [(k,v) for k,v in steps_new.items()]\n",
    "                inner_pipeline = Pipeline(steps_new)\n",
    "            for f in np.arange(num_models): #run each inner fold of stacking \n",
    "\n",
    "                X_train_inner = X_train_outer[stack_split[f][0]] # training examples for inner stacking fold\n",
    "                X_test_inner = X_train_outer[stack_split[f][1]]\n",
    "\n",
    "                y_train_inner = y_train_outer[stack_split[f][0]] \n",
    "                y_test_inner = y_train_outer[stack_split[f][1]]\n",
    "\n",
    "                #fit inner model\n",
    "                inner_pipeline.fit(X_train_inner, y_train_inner)\n",
    "                #record predictions for inner and outer test data (meta features)\n",
    "                meta_feat_train[stack_split[f][1],m] = inner_pipeline.predict(X_test_inner).ravel()\n",
    "                meta_feat_test[:,m,f] = inner_pipeline.predict(X_test_outer).ravel()\n",
    "                \n",
    "\n",
    "        #average test meta features across inner folds\n",
    "        mean_meta_feat_test = np.mean(meta_feat_test,axis = 2)\n",
    "\n",
    "\n",
    "        outer_pipeline.fit(meta_feat_train,y=y_train_outer)\n",
    "        preds[test] = outer_pipeline.predict(mean_meta_feat_test)\n",
    "\n",
    "    r2 = r2_score(y,preds)\n",
    "    return(r2,preds)\n",
    "\n",
    "\n",
    "\n",
    "\n"
   ]
  },
  {
   "cell_type": "code",
   "execution_count": 5,
   "metadata": {
    "collapsed": true
   },
   "outputs": [],
   "source": [
    "def stack_perm(Xs_actual,y_actual,inner_pipeline,outer_pipeline,n_iter,figname=None):\n",
    "    #permutation test of stacking model, with nested cv r squared as evaluation metric. parallelized via joblib\n",
    "    #X values are shuffled so that X and y no longer correspond to each other. stack function is called and \n",
    "    #resulting r squared value is recorded\n",
    "    #Args:\n",
    "        #Xs_actual: list of original X nparrays \n",
    "        #y_actual: original target variable\n",
    "        #inner pipeline: pipeline for inner/base models\n",
    "        #outer_pipeline: pipeline for outer/stacking model\n",
    "        #n_iter: num iterations for perm test\n",
    "        #fig_name: string or None. If None, no figure made. otherwise, figure saved with string as name\n",
    "    #Returns:\n",
    "        #null_scores: list of  r squared values from null models\n",
    "        #p: p value for perm test\n",
    "        #actual score: r2 value for model with unshuffled data\n",
    "    actual_score,_ = stack(Xs_actual,y_actual,inner_pipeline,outer_pipeline)\n",
    "    null_scores = np.zeros(n_iter)\n",
    "    null_scores = Parallel(n_jobs=4)(delayed(one_perm_stack)(\n",
    "        Xs_actual,y_actual,inner_pipeline,  outer_pipeline) \n",
    "                                     for i in range(n_iter))\n",
    "    null_scores = np.array(null_scores)\n",
    "    x_min = np.amin(np.append(null_scores,actual_score))-.05\n",
    "    x_max = np.amax(np.append(null_scores,actual_score))+.05\n",
    "    y_max = n_iter/3\n",
    "    \n",
    "    conf95 = np.percentile(null_scores, 95)\n",
    "    \n",
    "    #determine p value:\n",
    "    num_less = len(null_scores[np.where(null_scores<actual_score)])\n",
    "    p = 1- np.float(num_less/n_iter)\n",
    "    \n",
    "    plt.hist(null_scores,color='grey')\n",
    "    plt.plot([actual_score,actual_score],[0,y_max],'r')\n",
    "    plt.plot([conf95,conf95],[0,y_max],'k--')\n",
    "    plt.legend(['actual r squared','95% conf int'])\n",
    "    plt.axis([x_min,x_max,0,y_max])\n",
    "    plt.xlabel('r squared')\n",
    "    plt.ylabel('num iterations')\n",
    "    fontsize=15\n",
    "    plt.rc('font',**{ 'size':fontsize})\n",
    "    plt.tight_layout()\n",
    "    if figname:\n",
    "        plt.savefig(figname)\n",
    "    return(null_scores,p,actual_score)"
   ]
  },
  {
   "cell_type": "code",
   "execution_count": 6,
   "metadata": {
    "collapsed": true
   },
   "outputs": [],
   "source": [
    "def one_perm_stack(Xs_actual,y_actual,inner_pipeline, outer_pipeline):\n",
    "    #runs one permutation for perm_stack\n",
    "    shuff_order = np.arange(len(y_actual))\n",
    "    random.shuffle(shuff_order)\n",
    "    Xs_shuffled = []\n",
    "    for i in np.arange(len(Xs_actual)):\n",
    "        Xs_shuffled.append(Xs_actual[i][shuff_order])\n",
    "    null_score,_ = stack(Xs_shuffled,y_actual,inner_pipeline,outer_pipeline)\n",
    "    return(null_score)"
   ]
  },
  {
   "cell_type": "code",
   "execution_count": 7,
   "metadata": {
    "collapsed": true
   },
   "outputs": [],
   "source": [
    "class CPM(BaseEstimator, RegressorMixin):\n",
    "    \"\"\" connectome predictive model\"\"\"\n",
    "    #based off of Shen et al  2017, finn et al 2015, Rosenberg et al 2016\n",
    "    #(referred to as \"connectome-based predictive modeling\" in Rosenberg et al 2017)\n",
    "    #selects features that are tightly correlated with y, sum up correlation strengths of these features for each \n",
    "    #subject to get \"score\"\n",
    "    #perform linear regression using this score as predictor of y\n",
    "    \n",
    "    #separate models should be run for positive and negative networks (edges that positively and negatively correlate \n",
    "    #with y)\n",
    "    \n",
    "    #args: \n",
    "        #network, string, can be 'pos' or 'neg'\n",
    "        #pthresh, threshold for selecting features, default .01\n",
    "    \n",
    "    def __init__(self, network='pos',p_thresh=.01):\n",
    "        if network != 'pos' and network != 'neg':\n",
    "            raise ValueError(\"network must be 'pos' or 'neg'\")\n",
    "        if p_thresh <0 or p_thresh >1:\n",
    "            raise ValueError(\"invalid p thresh\")\n",
    "        self.p_thresh = p_thresh\n",
    "        self.network = network #positive or negative network model\n",
    "\n",
    "    def fit(self, X, y=None):\n",
    "        n, num_ftrs = X.shape\n",
    "        r = np.zeros(num_ftrs)\n",
    "        p = np.zeros(num_ftrs)\n",
    "        self.mask = np.zeros(num_ftrs)\n",
    "        for i in range(num_ftrs):\n",
    "            r[i],p[i] = stats.pearsonr(X[:,i],y.ravel())\n",
    "        \n",
    "        if self.network=='pos':\n",
    "            self.mask[(r>0)&(p<self.p_thresh)] = 1\n",
    "        else:\n",
    "            self.mask[(r<0)&(p<self.p_thresh)] = 1\n",
    "        \n",
    "        X_masked = self.mask*X    \n",
    "        corr_sum = np.sum(X_masked,axis=1).reshape(n,1)\n",
    "        predictors = np.concatenate((np.ones((n,1)),corr_sum),axis=1)\n",
    "        self.beta_ = np.matmul(np.linalg.inv(np.matmul(np.transpose(predictors),predictors)),\n",
    "                                np.dot(np.transpose(predictors),y))\n",
    "        return self\n",
    "\n",
    "    def predict(self, X, y=None):\n",
    "        try:\n",
    "            getattr(self, \"beta_\")\n",
    "        except AttributeError:\n",
    "            raise RuntimeError(\"You must train model before predicting!\")\n",
    "        n, num_ftrs = X.shape\n",
    "        X_masked = self.mask*X  \n",
    "        corr_sum = np.sum(X_masked,axis=1).reshape(n,1)\n",
    "    \n",
    "        predictors = np.concatenate((np.ones((n,1)),corr_sum),axis=1)\n",
    "        predictions = np.matmul(predictors, self.beta_)\n",
    "        return predictions \n",
    "\n",
    "    def score(self, X, y):\n",
    "        # r2\n",
    "        try:\n",
    "            getattr(self, \"beta_\")\n",
    "        except AttributeError:\n",
    "            raise RuntimeError(\"You must train model before scoring!\")\n",
    "        predictions = self.predict(X)\n",
    "        return r2_score(y,predictions)\n",
    "\n",
    "\n"
   ]
  },
  {
   "cell_type": "code",
   "execution_count": 8,
   "metadata": {
    "collapsed": true
   },
   "outputs": [],
   "source": [
    "def cpm_cv(X,y):\n",
    "    #performs 6 fold cv for cpm model. actually creates/evaluates 2 models, for pos and neg network\n",
    "    #args:\n",
    "        #X, np array, predictors\n",
    "        #y: target  variable\n",
    "    #returns:\n",
    "        #r2_pos:  cross validated r squared for powitive network\n",
    "        #r2_neg:  cross validated r squared for negative network\n",
    "        #preds_pos: predictions for positive netowrk model\n",
    "        #preds_neg: predictions for negative network model\n",
    "    n_folds = 6\n",
    "    outer_cv = cv_stratified(n_folds,y)\n",
    "\n",
    "    preds_pos = np.zeros(np.shape(y))\n",
    "    preds_neg = np.zeros(np.shape(y))\n",
    "\n",
    "    \n",
    "    for train, test in outer_cv:\n",
    "        inner_cv = cv_stratified(n_folds,y[train])\n",
    "        cpm_pos = CPM(network='pos')\n",
    "        cpm_pos.fit(X[train],y[train])\n",
    "\n",
    "        cpm_neg = CPM(network='neg')\n",
    "        cpm_neg.fit(X[train],y[train])\n",
    "\n",
    "        preds_pos[test] = cpm_pos.predict(X[test])\n",
    "        preds_neg[test] = cpm_neg.predict(X[test])\n",
    "\n",
    "    r2_pos = r2_score(y,preds_pos)\n",
    "    r2_neg = r2_score(y,preds_neg)\n",
    "    return(r2_pos,r2_neg,preds_pos,preds_neg)"
   ]
  },
  {
   "cell_type": "markdown",
   "metadata": {},
   "source": [
    "### load data"
   ]
  },
  {
   "cell_type": "code",
   "execution_count": 9,
   "metadata": {
    "collapsed": true
   },
   "outputs": [],
   "source": [
    "#load anx data\n",
    "\n",
    "compos_anx_file = input_data_folder + 'discovery/composAnxDisc.csv'\n",
    "anx_data = pd.read_csv(compos_anx_file, header=None)\n",
    "anx_data = anx_data.values"
   ]
  },
  {
   "cell_type": "code",
   "execution_count": 10,
   "metadata": {
    "collapsed": true
   },
   "outputs": [],
   "source": [
    "#load region to region connectivity data\n",
    "graph_data_file = input_data_folder + 'discovery/fsDisc.csv' \n",
    "graph_data = pd.read_csv(graph_data_file,header=None)\n",
    "graph_data = np.transpose(graph_data.values)\n",
    "\n"
   ]
  },
  {
   "cell_type": "code",
   "execution_count": 11,
   "metadata": {},
   "outputs": [
    {
     "name": "stdout",
     "output_type": "stream",
     "text": [
      "(531, 173444)\n",
      "29984\n"
     ]
    }
   ],
   "source": [
    "#load voxelwise amyg conn\n",
    "amyg_data = pd.read_csv(input_data_folder + 'discovery/seed_maps/Amygdala.csv',header=None).values\n",
    "\n",
    "#load data indicating where each subject has coverage\n",
    "coverage_data = pd.read_csv(input_data_folder + 'discovery/seed_maps/coverage_masks.csv',header=None).values\n",
    "\n",
    "print(coverage_data.shape)\n",
    "\n",
    "\n",
    "nan_idx = coverage_data==0\n",
    "amyg_naned = np.array(amyg_data)\n",
    "amyg_naned[nan_idx] = np.nan\n",
    "\n",
    "#number of voxels where at least one sub doesn't have coverage\n",
    "s = np.sum(amyg_naned,0)\n",
    "nan_bin = np.isnan(s)\n",
    "print(np.sum(nan_bin))\n",
    "\n",
    "\n",
    "amyg_data_z = np.array(amyg_naned)\n",
    "for i in range(amyg_data.shape[0]):\n",
    "    amyg_data_z[i,~np.isnan(amyg_naned[i,:])]= stats.zscore(amyg_data_z[i,~np.isnan(amyg_naned[i,:])])\n",
    "\n",
    "\n"
   ]
  },
  {
   "cell_type": "code",
   "execution_count": 12,
   "metadata": {
    "collapsed": true
   },
   "outputs": [],
   "source": [
    "#get structural data\n",
    "l_parc_data = pd.read_table(input_data_folder + 'discovery/aparc_stats_lh_Disc.txt')\n",
    "l_parc_data = l_parc_data.drop(labels=['lh.aparc.thickness','lh_MeanThickness_thickness'],axis = 1)\n",
    "#print(l_parc_data.columns)\n",
    "l_parc_data = l_parc_data.values\n",
    "r_parc_data = pd.read_table(input_data_folder + 'discovery/aparc_stats_rh_Disc.txt')\n",
    "r_parc_data = r_parc_data.drop(labels=['rh.aparc.thickness','rh_MeanThickness_thickness'],axis = 1)\n",
    "r_parc_data = r_parc_data.values\n",
    "aseg_data = pd.read_table(input_data_folder + 'discovery/aseg_stats_Disc.txt')\n",
    "aseg_data = aseg_data.drop(['Measure:volume',  'BrainSegVol',\n",
    "       'BrainSegVolNotVent', 'BrainSegVolNotVentSurf', 'lhCortexVol',\n",
    "       'rhCortexVol', 'CortexVol', 'SubCortGrayVol', 'TotalGrayVol',\n",
    "       'SupraTentorialVol', 'SupraTentorialVolNotVent',\n",
    "       'SupraTentorialVolNotVentVox', 'MaskVol', 'BrainSegVol-to-eTIV',\n",
    "       'MaskVol-to-eTIV', 'lhSurfaceHoles', 'rhSurfaceHoles', 'SurfaceHoles',],axis = 1)\n",
    "\n",
    "\n",
    "aseg_data =aseg_data.values\n",
    "#scale volumes by icv\n",
    "aseg_data_corrected =aseg_data[:,:-1]/aseg_data[:,-1].reshape(aseg_data.shape[0],1)\n",
    "#merge aseg and aparc data\n",
    "\n",
    "aseg_aparc_data = np.concatenate((aseg_data_corrected,l_parc_data),axis = 1)\n",
    "aseg_aparc_data = np.concatenate((aseg_aparc_data,r_parc_data),axis = 1)"
   ]
  },
  {
   "cell_type": "markdown",
   "metadata": {},
   "source": [
    "### does structural alone model do better?"
   ]
  },
  {
   "cell_type": "code",
   "execution_count": 13,
   "metadata": {},
   "outputs": [
    {
     "name": "stdout",
     "output_type": "stream",
     "text": [
      "Ridge regression:\n",
      "r squared:\n",
      "0.021309285014505686\n",
      "param selected:\n",
      "[{'regression__alpha': 1000.0}, {'regression__alpha': 1000.0}, {'regression__alpha': 1000.0}, {'regression__alpha': 1000.0}, {'regression__alpha': 1000.0}, {'regression__alpha': 1000.0}]\n",
      "correlation between actual and predicted anxiety:\n",
      "(array([0.1460326]), array([0.00073742]))\n"
     ]
    }
   ],
   "source": [
    "\n",
    "steps = [\n",
    "    ('standardize', StandardScaler()), \n",
    "    ('regression', Ridge())\n",
    "]\n",
    "pipeline = Pipeline(steps)\n",
    "params = {\n",
    "    'regression__alpha' : np.array([.01,.1,1,10,100,1000,10000,100000]),\n",
    "}\n",
    "\n",
    "\n",
    "r2,preds,param_selected =nested_cv(aseg_aparc_data,anx_data,pipeline,params)\n",
    "print('Ridge regression:')\n",
    "print('r squared:')\n",
    "print(r2)\n",
    "print('param selected:')\n",
    "print(param_selected)\n",
    "print('correlation between actual and predicted anxiety:')\n",
    "print(stats.pearsonr(preds,anx_data))\n"
   ]
  },
  {
   "cell_type": "markdown",
   "metadata": {
    "collapsed": true
   },
   "source": [
    "### adding in filter feature selection step--to stacked model and connectivity only model\n"
   ]
  },
  {
   "cell_type": "code",
   "execution_count": 14,
   "metadata": {
    "collapsed": true
   },
   "outputs": [],
   "source": [
    "def corrscore(X,y):\n",
    "    #correlation based scorer--correlation between every column of X against y.\n",
    "    rs = np.zeros(X.shape[1])\n",
    "    ps = np.zeros(X.shape[1])\n",
    "    for i in range(X.shape[1]):\n",
    "        rs[i],ps[i] = stats.pearsonr(X[:,i],y)\n",
    "    return(rs,ps)"
   ]
  },
  {
   "cell_type": "code",
   "execution_count": 15,
   "metadata": {
    "collapsed": true
   },
   "outputs": [],
   "source": [
    "#make a transformer that selects features that are correlated with y, at a p<.05 level.\n",
    "class CorrSelect(BaseEstimator, TransformerMixin):\n",
    "    def fit(self, X, y):\n",
    "        _,p = corrscore(X,y)\n",
    "        self.drop_idx = np.where(p>.05)[0]\n",
    "        return self\n",
    "    def transform(self, X,y=None):\n",
    "        X = np.delete(X,self.drop_idx,1)\n",
    "        return(X)\n",
    "\n",
    "\n"
   ]
  },
  {
   "cell_type": "code",
   "execution_count": 16,
   "metadata": {},
   "outputs": [
    {
     "name": "stdout",
     "output_type": "stream",
     "text": [
      "Ridge regression:\n",
      "r squared:\n",
      "0.007345525817088361\n",
      "param selected:\n",
      "[{'regression__alpha': 10000.0}, {'regression__alpha': 100000.0}, {'regression__alpha': 10000.0}, {'regression__alpha': 100000.0}, {'regression__alpha': 10000.0}, {'regression__alpha': 10000.0}]\n",
      "correlation between actual and predicted anxiety:\n",
      "(0.09003344565277449, 0.03807889452289783)\n"
     ]
    }
   ],
   "source": [
    "#connectivity only model\n",
    "\n",
    "steps = [\n",
    "    ('standardize', StandardScaler()), \n",
    "    ('filter_feat',CorrSelect()),\n",
    "    ('regression', Ridge())]\n",
    "\n",
    "pipeline = Pipeline(steps)\n",
    "params = {\n",
    "    'regression__alpha' : np.array([.01,.1,1,10,100,1000,10000,100000]),\n",
    "}\n",
    "\n",
    "\n",
    "r2,preds,param_selected =nested_cv(graph_data,anx_data.ravel(),pipeline,params)\n",
    "print('Ridge regression:')\n",
    "print('r squared:')\n",
    "print(r2)\n",
    "print('param selected:')\n",
    "print(param_selected)\n",
    "print('correlation between actual and predicted anxiety:')\n",
    "print(stats.pearsonr(preds,anx_data.ravel()))\n",
    "\n",
    "\n"
   ]
  },
  {
   "cell_type": "code",
   "execution_count": 17,
   "metadata": {},
   "outputs": [
    {
     "name": "stdout",
     "output_type": "stream",
     "text": [
      " r squared:\n",
      "0.01405509477400635\n",
      "correlation between actual and predicted anxiety:\n",
      "(0.11931419256578592, 0.00590935030890499)\n"
     ]
    }
   ],
   "source": [
    "#stacked model\n",
    "\n",
    "#linear regression outer (stacking) model\n",
    "linreg_pipeline_steps = [\n",
    " ('standardize', StandardScaler()), \n",
    "('regression', LinearRegression())\n",
    "]\n",
    "linreg_pipeline = Pipeline(linreg_pipeline_steps)\n",
    "\n",
    "inner_pipeline_steps = [\n",
    "('impute',Imputer(missing_values='NaN',strategy='mean')),#only relevant for  amyg_data\n",
    "('filter_feat',CorrSelect()),\n",
    "('standardize', StandardScaler()), \n",
    "('regression', Ridge(1000))\n",
    "]\n",
    "inner_pipeline = Pipeline(inner_pipeline_steps)\n",
    "\n",
    "r2,preds = stack([graph_data,aseg_aparc_data,amyg_data_z],anx_data.ravel(),inner_pipeline,linreg_pipeline)\n",
    "print(' r squared:')\n",
    "print(r2)\n",
    "\n",
    "print('correlation between actual and predicted anxiety:')\n",
    "print(stats.pearsonr(preds,anx_data.ravel()))\n",
    "\n",
    "\n"
   ]
  },
  {
   "cell_type": "markdown",
   "metadata": {},
   "source": [
    "### stacked model without imputing"
   ]
  },
  {
   "cell_type": "code",
   "execution_count": 18,
   "metadata": {},
   "outputs": [
    {
     "data": {
      "text/plain": [
       "(531, 143460)"
      ]
     },
     "execution_count": 18,
     "metadata": {},
     "output_type": "execute_result"
    }
   ],
   "source": [
    "#non-imputed version\n",
    "#drop the features where any subject has a nan\n",
    "\n",
    "s = np.sum(amyg_naned,0)\n",
    "nan_feat_bin = np.isnan(s)\n",
    "nan_feat_idx = np.where(nan_feat_bin)[0]\n",
    "amyg_data_z_x = np.delete(amyg_data_z,nan_feat_idx,1)\n",
    "amyg_data_z_x.shape"
   ]
  },
  {
   "cell_type": "code",
   "execution_count": 19,
   "metadata": {},
   "outputs": [
    {
     "name": "stdout",
     "output_type": "stream",
     "text": [
      " r squared:\n",
      "0.05661890836387906\n",
      "correlation between actual and predicted anxiety:\n",
      "(array([0.25622646]), array([2.08917219e-09]))\n"
     ]
    }
   ],
   "source": [
    "#linear regression outer (stacking) model\n",
    "linreg_pipeline_steps = [\n",
    " ('standardize', StandardScaler()), \n",
    "('regression', LinearRegression())\n",
    "]\n",
    "linreg_pipeline = Pipeline(linreg_pipeline_steps)\n",
    "\n",
    "inner_pipeline_steps = [\n",
    "('standardize', StandardScaler()), \n",
    "('regression', Ridge(1000))\n",
    "]\n",
    "inner_pipeline = Pipeline(inner_pipeline_steps)\n",
    "\n",
    "r2,preds = stack([graph_data,aseg_aparc_data,amyg_data_z_x],anx_data,inner_pipeline,linreg_pipeline)\n",
    "print(' r squared:')\n",
    "print(r2)\n",
    "\n",
    "print('correlation between actual and predicted anxiety:')\n",
    "print(stats.pearsonr(preds,anx_data))\n",
    "\n",
    "amyg_data_z_x = [] #clear up this space\n",
    "#doesn't make much difference in R^2:~ .002 "
   ]
  },
  {
   "cell_type": "markdown",
   "metadata": {},
   "source": [
    "### predicting anxiety scales separately"
   ]
  },
  {
   "cell_type": "code",
   "execution_count": 20,
   "metadata": {
    "collapsed": true
   },
   "outputs": [],
   "source": [
    "#load anx data\n",
    "\n",
    "anx_file = input_data_folder + 'discovery/sepAnxDisc.csv'\n",
    "anx_data_sep = pd.read_csv(anx_file, header=None)\n",
    "anx_data_sep = anx_data_sep.values\n",
    "\n"
   ]
  },
  {
   "cell_type": "code",
   "execution_count": 21,
   "metadata": {},
   "outputs": [
    {
     "data": {
      "text/html": [
       "<div>\n",
       "<style>\n",
       "    .dataframe thead tr:only-child th {\n",
       "        text-align: right;\n",
       "    }\n",
       "\n",
       "    .dataframe thead th {\n",
       "        text-align: left;\n",
       "    }\n",
       "\n",
       "    .dataframe tbody tr th {\n",
       "        vertical-align: top;\n",
       "    }\n",
       "</style>\n",
       "<table border=\"1\" class=\"dataframe\">\n",
       "  <thead>\n",
       "    <tr style=\"text-align: right;\">\n",
       "      <th></th>\n",
       "      <th>0</th>\n",
       "      <th>1</th>\n",
       "      <th>2</th>\n",
       "      <th>3</th>\n",
       "    </tr>\n",
       "  </thead>\n",
       "  <tbody>\n",
       "    <tr>\n",
       "      <th>0</th>\n",
       "      <td>1.000000</td>\n",
       "      <td>0.798150</td>\n",
       "      <td>0.431998</td>\n",
       "      <td>0.646245</td>\n",
       "    </tr>\n",
       "    <tr>\n",
       "      <th>1</th>\n",
       "      <td>0.798150</td>\n",
       "      <td>1.000000</td>\n",
       "      <td>0.553837</td>\n",
       "      <td>0.681252</td>\n",
       "    </tr>\n",
       "    <tr>\n",
       "      <th>2</th>\n",
       "      <td>0.431998</td>\n",
       "      <td>0.553837</td>\n",
       "      <td>1.000000</td>\n",
       "      <td>0.563058</td>\n",
       "    </tr>\n",
       "    <tr>\n",
       "      <th>3</th>\n",
       "      <td>0.646245</td>\n",
       "      <td>0.681252</td>\n",
       "      <td>0.563058</td>\n",
       "      <td>1.000000</td>\n",
       "    </tr>\n",
       "  </tbody>\n",
       "</table>\n",
       "</div>"
      ],
      "text/plain": [
       "          0         1         2         3\n",
       "0  1.000000  0.798150  0.431998  0.646245\n",
       "1  0.798150  1.000000  0.553837  0.681252\n",
       "2  0.431998  0.553837  1.000000  0.563058\n",
       "3  0.646245  0.681252  0.563058  1.000000"
      ]
     },
     "execution_count": 21,
     "metadata": {},
     "output_type": "execute_result"
    }
   ],
   "source": [
    "stai = anx_data_sep[:,0]\n",
    "neo = anx_data_sep[:,1]\n",
    "bis = anx_data_sep[:,2]\n",
    "tci = anx_data_sep[:,3]\n",
    "pd.DataFrame(np.corrcoef(np.transpose(anx_data_sep)))"
   ]
  },
  {
   "cell_type": "code",
   "execution_count": 22,
   "metadata": {},
   "outputs": [
    {
     "name": "stdout",
     "output_type": "stream",
     "text": [
      " r squared:\n",
      "-0.013731517618593259\n",
      "correlation between actual and predicted anxiety:\n",
      "(-0.006126564581085914, 0.8879918158700756)\n"
     ]
    },
    {
     "data": {
      "image/png": "[encoded data removed]",
      "text/plain": [
       "<matplotlib.figure.Figure at 0x11f731e80>"
      ]
     },
     "metadata": {},
     "output_type": "display_data"
    }
   ],
   "source": [
    "# STAI alone\n",
    "linreg_pipeline_steps = [\n",
    " ('standardize', StandardScaler()), \n",
    "('regression', LinearRegression())\n",
    "]\n",
    "linreg_pipeline = Pipeline(linreg_pipeline_steps)\n",
    "\n",
    "inner_pipeline_steps = [\n",
    "('impute',Imputer(missing_values='NaN',strategy='mean')),#only relevant for  amyg_data\n",
    "('standardize', StandardScaler()), \n",
    "('regression', Ridge(1000))\n",
    "]\n",
    "inner_pipeline = Pipeline(inner_pipeline_steps)\n",
    "\n",
    "r2,preds = stack([graph_data,aseg_aparc_data,amyg_data_z],stai,inner_pipeline,linreg_pipeline)\n",
    "print(' r squared:')\n",
    "print(r2)\n",
    "\n",
    "print('correlation between actual and predicted anxiety:')\n",
    "print(stats.pearsonr(preds,stai))\n",
    "\n",
    "\n",
    "\n",
    "plt.plot(stai,preds,'o',color='black')\n",
    "linreg = LinearRegression() #get regression line for plot\n",
    "\n",
    "linreg.fit(stai.reshape(-1, 1),preds)\n",
    "line = linreg.predict(np.array([-3,3]).reshape(-1,1))\n",
    "plt.plot([-3,3],line,color='black')\n",
    "plt.xlabel('actual anxiety score')\n",
    "plt.ylabel('predicted anxiety score')\n",
    "plt.xlim([-3,3])\n",
    "plt.ylim([-.5,.5])\n",
    "fontsize=18\n",
    "plt.rc('font',**{ 'size':fontsize})\n",
    "plt.tight_layout()\n",
    "\n",
    "\n"
   ]
  },
  {
   "cell_type": "code",
   "execution_count": 23,
   "metadata": {},
   "outputs": [
    {
     "name": "stdout",
     "output_type": "stream",
     "text": [
      " r squared:\n",
      "0.02746909063196812\n",
      "correlation between actual and predicted anxiety:\n",
      "(0.16588041200581638, 0.00012299298951210587)\n"
     ]
    },
    {
     "data": {
      "image/png": "[encoded data removed]",
      "text/plain": [
       "<matplotlib.figure.Figure at 0x109d5eb38>"
      ]
     },
     "metadata": {},
     "output_type": "display_data"
    }
   ],
   "source": [
    "# BIS\n",
    "r2,preds = stack([graph_data,aseg_aparc_data,amyg_data_z],bis,inner_pipeline,linreg_pipeline)\n",
    "print(' r squared:')\n",
    "print(r2)\n",
    "\n",
    "print('correlation between actual and predicted anxiety:')\n",
    "print(stats.pearsonr(preds,bis))\n",
    "\n",
    "\n",
    "\n",
    "plt.plot(bis,preds,'o',color='black')\n",
    "linreg = LinearRegression() #get regression line for plot\n",
    "\n",
    "linreg.fit(bis.reshape(-1, 1),preds)\n",
    "line = linreg.predict(np.array([-3,3]).reshape(-1,1))\n",
    "plt.plot([-3,3],line,color='black')\n",
    "plt.xlabel('actual anxiety score')\n",
    "plt.ylabel('predicted anxiety score')\n",
    "plt.xlim([-3,3])\n",
    "plt.ylim([-.5,.5])\n",
    "fontsize=18\n",
    "plt.rc('font',**{ 'size':fontsize})\n",
    "plt.tight_layout()"
   ]
  },
  {
   "cell_type": "code",
   "execution_count": 24,
   "metadata": {},
   "outputs": [
    {
     "name": "stdout",
     "output_type": "stream",
     "text": [
      " r squared:\n",
      "0.03269149615910927\n",
      "correlation between actual and predicted anxiety:\n",
      "(0.18087118123947363, 2.756532080104815e-05)\n"
     ]
    },
    {
     "data": {
      "image/png": "[encoded data removed]",
      "text/plain": [
       "<matplotlib.figure.Figure at 0x10979c6d8>"
      ]
     },
     "metadata": {},
     "output_type": "display_data"
    }
   ],
   "source": [
    "# NEO\n",
    "\n",
    "r2,preds = stack([graph_data,aseg_aparc_data,amyg_data_z],neo,inner_pipeline,linreg_pipeline)\n",
    "print(' r squared:')\n",
    "print(r2)\n",
    "\n",
    "print('correlation between actual and predicted anxiety:')\n",
    "print(stats.pearsonr(preds,neo))\n",
    "\n",
    "\n",
    "\n",
    "plt.plot(neo,preds,'o',color='black')\n",
    "linreg = LinearRegression() #get regression line for plot\n",
    "\n",
    "linreg.fit(neo.reshape(-1, 1),preds)\n",
    "line = linreg.predict(np.array([-3,3]).reshape(-1,1))\n",
    "plt.plot([-3,3],line,color='black')\n",
    "plt.xlabel('actual anxiety score')\n",
    "plt.ylabel('predicted anxiety score')\n",
    "plt.xlim([-3,3])\n",
    "plt.ylim([-.5,.5])\n",
    "fontsize=18\n",
    "plt.rc('font',**{ 'size':fontsize})\n",
    "plt.tight_layout()\n",
    "\n",
    "\n"
   ]
  },
  {
   "cell_type": "code",
   "execution_count": 25,
   "metadata": {},
   "outputs": [
    {
     "name": "stdout",
     "output_type": "stream",
     "text": [
      " r squared:\n",
      "0.0358780674126028\n",
      "correlation between actual and predicted anxiety:\n",
      "(0.19439621241053642, 6.418441480570951e-06)\n"
     ]
    },
    {
     "data": {
      "image/png": "[encoded data removed]",
      "text/plain": [
       "<matplotlib.figure.Figure at 0x11f75a518>"
      ]
     },
     "metadata": {},
     "output_type": "display_data"
    }
   ],
   "source": [
    "# TCI\n",
    "\n",
    "r2,preds = stack([graph_data,aseg_aparc_data,amyg_data_z],tci,inner_pipeline,linreg_pipeline)\n",
    "print(' r squared:')\n",
    "print(r2)\n",
    "\n",
    "print('correlation between actual and predicted anxiety:')\n",
    "print(stats.pearsonr(preds,tci))\n",
    "\n",
    "\n",
    "\n",
    "plt.plot(tci,preds,'o',color='black')\n",
    "linreg = LinearRegression() #get regression line for plot\n",
    "\n",
    "linreg.fit(tci.reshape(-1, 1),preds)\n",
    "line = linreg.predict(np.array([-3,3]).reshape(-1,1))\n",
    "plt.plot([-3,3],line,color='black')\n",
    "plt.xlabel('actual anxiety score')\n",
    "plt.ylabel('predicted anxiety score')\n",
    "plt.xlim([-3,3])\n",
    "plt.ylim([-.5,.5])\n",
    "fontsize=18\n",
    "plt.rc('font',**{ 'size':fontsize})\n",
    "plt.tight_layout()\n",
    "\n",
    "\n"
   ]
  },
  {
   "cell_type": "markdown",
   "metadata": {
    "collapsed": true
   },
   "source": [
    "### extract feature weights, assign p values"
   ]
  },
  {
   "cell_type": "code",
   "execution_count": 35,
   "metadata": {
    "collapsed": true
   },
   "outputs": [],
   "source": [
    "def stack_weights(Xs,y,inner_pipeline,outer_pipeline):\n",
    "    #gets weights on  features for stacking model.\n",
    "    #does not make predictions on test observations--just for understanding the model.\n",
    "    #Args:\n",
    "        #Xs is a list containing the different datasets. elements should have the same # observations\n",
    "        #y: outcome variable\n",
    "        #inner pipeline: pipeline containing inner (base) model\n",
    "        #outer_pipeline: pipeline containing outer (stacking) model\n",
    "    #Output:\n",
    "        #betas_outer: weights of the meta features, length m (where m = # of base models)\n",
    "        #betas_inner: average weights of the base model features, list of length m containing np arrays\n",
    "            #of length (num features in base model)\n",
    "        #betas_total: total weight of the original input features, list of length m containing np arrays\n",
    "            #of length (num features in base model) \n",
    "            #(calculation: outer beta corresponding to a base model * all the inner betas for that model)\n",
    "    \n",
    "\n",
    "    num_models = len(Xs)\n",
    "    stack_split = cv_stratified(num_models,y)#split into folds for model stacking\n",
    "\n",
    "    meta_feat_train = np.zeros((len(y),num_models))\n",
    "    betas_inner = []\n",
    "    for m in np.arange(num_models): #have to run each model\n",
    "        X = Xs[m]#select the relevant x dataset\n",
    "        betas_inner.append([])\n",
    "        betas_inner[m] = np.zeros((num_models,X.shape[1]))\n",
    "        for f in np.arange(num_models): #have to run each model in each inner fold of stacking .\n",
    "            X_train = X[stack_split[f][0]] # training examples for stacking\n",
    "            X_test = X[stack_split[f][1]]\n",
    "\n",
    "            y_train = y[stack_split[f][0]] \n",
    "            y_test = y[stack_split[f][1]]\n",
    "\n",
    "            #fit inner model\n",
    "            inner_pipeline.fit(X_train, y_train)\n",
    "\n",
    "            #record predictions for train and test (meta features)\n",
    "            meta_feat_train[stack_split[f][1],m] = inner_pipeline.predict(X_test).ravel()\n",
    "            betas_inner[m][f] = inner_pipeline.named_steps['regression'].coef_\n",
    "        betas_inner[m] = np.mean(betas_inner[m],0)\n",
    "    #train outer (stacked) model on training meta features\n",
    "    outer_pipeline.fit(meta_feat_train,y=y)\n",
    "    [betas_outer] = outer_pipeline.named_steps['regression'].coef_\n",
    "    betas_total = []\n",
    "    for m in np.arange(num_models):\n",
    "        betas_total.append(betas_outer[m]*betas_inner[m])\n",
    "\n",
    "    return(betas_outer,betas_inner,betas_total)\n",
    "\n",
    "\n"
   ]
  },
  {
   "cell_type": "code",
   "execution_count": 36,
   "metadata": {},
   "outputs": [
    {
     "name": "stdout",
     "output_type": "stream",
     "text": [
      "[0.16442215 0.08370337 0.05894404]\n"
     ]
    }
   ],
   "source": [
    "#linear regression outer (stacking) model\n",
    "linreg_pipeline_steps = [\n",
    " ('standardize', StandardScaler()), \n",
    "('regression', LinearRegression())\n",
    "]\n",
    "linreg_pipeline = Pipeline(linreg_pipeline_steps)\n",
    "\n",
    "inner_pipeline_steps = [\n",
    "('impute',Imputer(missing_values='NaN',strategy='mean')),#only relevant for  amyg_data\n",
    "('standardize', StandardScaler()), \n",
    "('regression', Ridge(1000))\n",
    "]\n",
    "inner_pipeline = Pipeline(inner_pipeline_steps)\n",
    "\n",
    "betas_outer_true,betas_inner_true,betas_total_true = stack_weights([graph_data,aseg_aparc_data,amyg_data_z],anx_data,inner_pipeline,linreg_pipeline)\n",
    "\n",
    "print(betas_outer_true)\n",
    "np.savetxt(output_data_folder + 'discovery/betas_stack.csv',betas_outer_true,delimiter=',')\n"
   ]
  },
  {
   "cell_type": "code",
   "execution_count": 51,
   "metadata": {},
   "outputs": [
    {
     "name": "stdout",
     "output_type": "stream",
     "text": [
      "0\n",
      "500\n",
      "1000\n",
      "1500\n",
      "2000\n",
      "2500\n",
      "3000\n",
      "3500\n",
      "4000\n",
      "4500\n"
     ]
    }
   ],
   "source": [
    "#get p vals through permutation testing\n",
    "\n",
    "random.seed(44)\n",
    "num_it = 5000 #number iterations\n",
    "betas_outer_perm = np.zeros((num_it,3))\n",
    "\n",
    "betas_total_perm = [np.zeros((num_it,graph_data.shape[1])),np.zeros((num_it,aseg_aparc_data.shape[1])),\n",
    "              np.zeros((num_it,amyg_data_z.shape[1]))]\n",
    "perm = np.arange(len(anx_data))\n",
    "for i in range(num_it):\n",
    "    random.shuffle(perm)\n",
    "    anx_data_perm = anx_data[perm] \n",
    "    betas_outer,betas_inner,betas_total = stack_weights([graph_data,aseg_aparc_data,amyg_data_z],anx_data_perm\n",
    "                                                 ,inner_pipeline,linreg_pipeline)\n",
    "    betas_outer_perm[i] = betas_outer\n",
    "    betas_total_perm[0][i] = betas_total[0]\n",
    "    betas_total_perm[1][i] = betas_total[1]\n",
    "    betas_total_perm[2][i] = betas_total[2]\n",
    "\n",
    "    if np.mod(i,500)==0:\n",
    "        print(i)\n",
    "\n",
    "\n",
    "\n",
    "\n"
   ]
  },
  {
   "cell_type": "code",
   "execution_count": 72,
   "metadata": {},
   "outputs": [
    {
     "name": "stdout",
     "output_type": "stream",
     "text": [
      "model 0 : number of significant total betas, p<.001\n",
      "353\n",
      "model 1 : number of significant total betas, p<.001\n",
      "0\n",
      "model 2 : number of significant total betas, p<.001\n",
      "1\n",
      "outer betas and p-values\n",
      "[0.16442215 0.08370337 0.05894404]\n",
      "[0.0012 0.0792 0.2516]\n"
     ]
    }
   ],
   "source": [
    "#get the p values for \"total\" betas\n",
    "ps = [np.zeros(betas_total_true[0].shape),np.zeros(betas_total_true[1].shape),np.zeros(betas_total_true[2].shape)]\n",
    "for i in range(3):\n",
    "    ps[i][betas_total_true[i]>=0] =2*np.sum(betas_total_perm[i][:,betas_total_true[i]>=0] >=\n",
    "                                           betas_total_true[i][betas_total_true[i]>=0],axis=0)/num_it\n",
    "    ps[i][betas_total_true[i]<0] =2*np.sum(betas_total_perm[i][:,betas_total_true[i]<0] <\n",
    "                                          betas_total_true[i][betas_total_true[i]<0],axis=0)/num_it\n",
    "    print('model ' + str(i) + ' : number of significant total betas, p<.001')\n",
    "    print(len(np.where(ps[i]<=.001)[0]))\n",
    "\n",
    "ps_outer =2*np.sum(betas_outer_perm >=betas_outer_true,axis=0)/num_it\n",
    "\n",
    "print('outer betas and p-values')\n",
    "print(betas_outer_true)\n",
    "print(ps_outer)\n",
    "\n",
    "np.savetxt(output_data_folder + 'discovery/betas_graph.csv',betas_total_true[0],delimiter=',')\n",
    "np.savetxt(output_data_folder + 'discovery/betas_struct.csv',betas_total_true[1],delimiter=',')\n",
    "np.savetxt(output_data_folder + 'discovery/betas_amyg.csv',betas_total_true[2],delimiter=',')\n",
    "\n",
    "np.savetxt(output_data_folder + 'discovery/ps_graph.csv',ps[0],delimiter=',')\n",
    "np.savetxt(output_data_folder + 'discovery/ps_struct.csv',ps[1],delimiter=',')\n",
    "np.savetxt(output_data_folder + 'discovery/ps_amyg.csv',ps[2],delimiter=',')\n",
    "np.savetxt(output_data_folder + 'discovery/1-ps_amyg.csv',1-ps[2],delimiter=',')"
   ]
  },
  {
   "cell_type": "markdown",
   "metadata": {},
   "source": [
    "### censoring"
   ]
  },
  {
   "cell_type": "code",
   "execution_count": 13,
   "metadata": {
    "collapsed": true
   },
   "outputs": [],
   "source": [
    "#load censored data\n",
    "amyg_data_z = []\n",
    "amyg_data_c = pd.read_csv(input_data_folder + 'discovery/censor/Amygdala.csv',header=None).values\n",
    "amyg_naned = np.array(amyg_data_c)\n",
    "\n",
    "nan_idx = coverage_data==0\n",
    "amyg_naned[nan_idx] = np.nan\n",
    "\n",
    "#zscoring\n",
    "amyg_data_z_c = np.array(amyg_naned)\n",
    "for i in range(amyg_data_z_c.shape[0]):\n",
    "    amyg_data_z_c[i,~np.isnan(amyg_naned[i,:])]= stats.zscore(amyg_data_z_c[i,~np.isnan(amyg_naned[i,:])])\n",
    "\n",
    "\n",
    "\n",
    "graph_data_c = pd.read_csv(input_data_folder + 'discovery/censor/fsDiscCens.csv',header=None)\n",
    "graph_data_c = np.transpose(graph_data_c.values)\n"
   ]
  },
  {
   "cell_type": "code",
   "execution_count": 14,
   "metadata": {},
   "outputs": [
    {
     "name": "stdout",
     "output_type": "stream",
     "text": [
      " r squared:\n",
      "0.03259876884197521\n",
      "correlation between actual and predicted anxiety:\n",
      "(array([0.18663546]), array([1.50006538e-05]))\n"
     ]
    }
   ],
   "source": [
    "#linear regression outer (stacking) model\n",
    "linreg_pipeline_steps = [\n",
    " ('standardize', StandardScaler()), \n",
    "('regression', LinearRegression())\n",
    "]\n",
    "linreg_pipeline = Pipeline(linreg_pipeline_steps)\n",
    "\n",
    "inner_pipeline_steps = [\n",
    "('impute',Imputer(missing_values='NaN',strategy='mean')),#only relevant for  amyg_data\n",
    "('standardize', StandardScaler()), \n",
    "('regression', Ridge(1000))\n",
    "]\n",
    "inner_pipeline = Pipeline(inner_pipeline_steps)\n",
    "\n",
    "\n",
    "\n",
    "r2,preds = stack([graph_data_c,aseg_aparc_data,amyg_data_z_c],anx_data,inner_pipeline,linreg_pipeline)\n",
    "print(' r squared:')\n",
    "print(r2)\n",
    "\n",
    "print('correlation between actual and predicted anxiety:')\n",
    "print(stats.pearsonr(preds,anx_data))\n",
    "\n",
    "\n"
   ]
  },
  {
   "cell_type": "code",
   "execution_count": 15,
   "metadata": {},
   "outputs": [
    {
     "name": "stdout",
     "output_type": "stream",
     "text": [
      "0.0020000000000000018\n"
     ]
    },
    {
     "data": {
      "image/png": "[encoded data removed]",
      "text/plain": [
       "<matplotlib.figure.Figure at 0x1207af860>"
      ]
     },
     "metadata": {},
     "output_type": "display_data"
    }
   ],
   "source": [
    "null_scores,p,actual_score = stack_perm([graph_data_c,aseg_aparc_data,amyg_data_z_c],\n",
    "                                        anx_data,inner_pipeline,linreg_pipeline,1000,\n",
    "                                        figname=output_data_folder + 'discovery/stack_perm_c.png')\n",
    "np.savetxt(output_data_folder + 'discovery/null_r2_disc_c.csv',null_scores,delimiter=',')\n",
    "\n",
    "print(p)\n",
    "\n"
   ]
  },
  {
   "cell_type": "markdown",
   "metadata": {},
   "source": [
    "### CPM with shen"
   ]
  },
  {
   "cell_type": "code",
   "execution_count": 16,
   "metadata": {
    "collapsed": true
   },
   "outputs": [],
   "source": [
    "#shen segmentation\n",
    "#load data\n",
    "graph_data_file = input_data_folder + 'discovery/shenDisc.csv' \n",
    "graph_data = pd.read_csv(graph_data_file,header=None)\n",
    "graph_data = np.transpose(graph_data.values)"
   ]
  },
  {
   "cell_type": "code",
   "execution_count": 17,
   "metadata": {},
   "outputs": [
    {
     "name": "stdout",
     "output_type": "stream",
     "text": [
      "CPM-shen\n",
      " r squared for positive model:\n",
      "-0.1662787332580209\n",
      " r squared for negative model:\n",
      "-0.16464575806773807\n",
      "corr between actual and predicted anxiety for positive model:\n",
      "(array([0.05458202]), array([0.20921406]))\n",
      "corr between actual and predicted anxiety for negative model:\n",
      "(array([0.059216]), array([0.17303375]))\n"
     ]
    }
   ],
   "source": [
    "#cpm\n",
    "r2_pos,r2_neg,preds_pos,preds_neg = cpm_cv(graph_data,anx_data)\n",
    "print('CPM-shen')\n",
    "print(' r squared for positive model:')\n",
    "print(r2_pos)\n",
    "print(' r squared for negative model:')\n",
    "print(r2_neg)\n",
    "\n",
    "print('corr between actual and predicted anxiety for positive model:')\n",
    "print(stats.pearsonr(preds_pos,anx_data))\n",
    "print('corr between actual and predicted anxiety for negative model:')\n",
    "print(stats.pearsonr(preds_neg,anx_data))\n",
    "\n",
    "\n"
   ]
  },
  {
   "cell_type": "markdown",
   "metadata": {
    "collapsed": true
   },
   "source": [
    "### rvr with power"
   ]
  },
  {
   "cell_type": "code",
   "execution_count": 13,
   "metadata": {
    "collapsed": true
   },
   "outputs": [],
   "source": [
    "#load data\n",
    "graph_data_file = input_data_folder + 'discovery/powerDisc.csv' \n",
    "graph_data = pd.read_csv(graph_data_file,header=None)\n",
    "graph_data = np.transpose(graph_data.values)\n",
    "compos_anx_file = input_data_folder + 'discovery/composAnxPowerDisc.csv'\n",
    "anx_data = pd.read_csv(compos_anx_file, header=None)\n",
    "anx_data = anx_data.values"
   ]
  },
  {
   "cell_type": "code",
   "execution_count": 14,
   "metadata": {},
   "outputs": [
    {
     "name": "stdout",
     "output_type": "stream",
     "text": [
      "Ridge regression:\n",
      "r squared:\n",
      "-0.0005822797838281879\n",
      "correlation between actual and predicted anxiety:\n",
      "(0.08750003043061266, 0.04406109854454535)\n"
     ]
    }
   ],
   "source": [
    "steps = [\n",
    "    ('standardize', StandardScaler()), \n",
    "    ('regression', RVR(kernel = 'rbf'))\n",
    "]\n",
    "pipeline = Pipeline(steps)\n",
    "\n",
    "\n",
    "n_folds = 6\n",
    "cv = cv_stratified(n_folds,anx_data.ravel())\n",
    "\n",
    "preds = np.zeros(np.shape(anx_data.ravel()))\n",
    "\n",
    "for train, test in cv:\n",
    "\n",
    "    pipeline.fit(graph_data[train], anx_data.ravel()[train])\n",
    "    preds[test] = pipeline.predict(graph_data[test])\n",
    "r2 = r2_score(anx_data.ravel(),preds)\n",
    "        \n",
    "print('Ridge regression:')\n",
    "print('r squared:')\n",
    "print(r2)\n",
    "print('correlation between actual and predicted anxiety:')\n",
    "print(stats.pearsonr(preds,anx_data.ravel()))\n"
   ]
  },
  {
   "cell_type": "code",
   "execution_count": null,
   "metadata": {
    "collapsed": true
   },
   "outputs": [],
   "source": []
  }
 ],
 "metadata": {
  "kernelspec": {
   "display_name": "Python 3",
   "language": "python",
   "name": "python3"
  },
  "language_info": {
   "codemirror_mode": {
    "name": "ipython",
    "version": 3
   },
   "file_extension": ".py",
   "mimetype": "text/x-python",
   "name": "python",
   "nbconvert_exporter": "python",
   "pygments_lexer": "ipython3",
   "version": "3.6.1"
  }
 },
 "nbformat": 4,
 "nbformat_minor": 1
}
